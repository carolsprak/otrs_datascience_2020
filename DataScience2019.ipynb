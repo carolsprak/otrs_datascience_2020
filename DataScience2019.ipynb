{
  "nbformat": 4,
  "nbformat_minor": 0,
  "metadata": {
    "colab": {
      "name": "DataScience2019",
      "provenance": [],
      "collapsed_sections": [],
      "toc_visible": true,
      "include_colab_link": true
    },
    "kernelspec": {
      "name": "python3",
      "display_name": "Python 3"
    }
  },
  "cells": [
    {
      "cell_type": "markdown",
      "metadata": {
        "id": "view-in-github",
        "colab_type": "text"
      },
      "source": [
        "<a href=\"https://colab.research.google.com/github/carolsprak/otrs_datascience_2020/blob/main/DataScience2019.ipynb\" target=\"_parent\"><img src=\"https://colab.research.google.com/assets/colab-badge.svg\" alt=\"Open In Colab\"/></a>"
      ]
    },
    {
      "cell_type": "code",
      "metadata": {
        "id": "-7ogKZnFFhB3"
      },
      "source": [
        "import pandas as pd\n",
        "import seaborn as sns\n",
        "import matplotlib.pyplot as plt\n",
        "import numpy as np"
      ],
      "execution_count": 1,
      "outputs": []
    },
    {
      "cell_type": "markdown",
      "metadata": {
        "id": "kgfZbcEGGzWM"
      },
      "source": [
        "#Analisando os filmes"
      ]
    },
    {
      "cell_type": "code",
      "metadata": {
        "id": "A8oCwhkq6b3v"
      },
      "source": [
        "notas = pd.read_csv(\"sample_data/ratings.csv\") \n"
      ],
      "execution_count": 2,
      "outputs": []
    },
    {
      "cell_type": "code",
      "metadata": {
        "id": "MPuqWUwU7SfL",
        "colab": {
          "base_uri": "https://localhost:8080/"
        },
        "outputId": "ddd401e7-e83d-44f9-ee46-bdd264f596d5"
      },
      "source": [
        "notas.head() \n",
        "notas.shape"
      ],
      "execution_count": 3,
      "outputs": [
        {
          "output_type": "execute_result",
          "data": {
            "text/plain": [
              "(100836, 4)"
            ]
          },
          "metadata": {
            "tags": []
          },
          "execution_count": 3
        }
      ]
    },
    {
      "cell_type": "code",
      "metadata": {
        "id": "jOASDzGz6eal",
        "colab": {
          "base_uri": "https://localhost:8080/",
          "height": 204
        },
        "outputId": "82327285-8107-4c85-943c-29e1d1c3f838"
      },
      "source": [
        "notas.columns = [\"usuarioId\", \"filmeId\", \"nota\", \"momento\"] \n",
        "notas.head()"
      ],
      "execution_count": 4,
      "outputs": [
        {
          "output_type": "execute_result",
          "data": {
            "text/html": [
              "<div>\n",
              "<style scoped>\n",
              "    .dataframe tbody tr th:only-of-type {\n",
              "        vertical-align: middle;\n",
              "    }\n",
              "\n",
              "    .dataframe tbody tr th {\n",
              "        vertical-align: top;\n",
              "    }\n",
              "\n",
              "    .dataframe thead th {\n",
              "        text-align: right;\n",
              "    }\n",
              "</style>\n",
              "<table border=\"1\" class=\"dataframe\">\n",
              "  <thead>\n",
              "    <tr style=\"text-align: right;\">\n",
              "      <th></th>\n",
              "      <th>usuarioId</th>\n",
              "      <th>filmeId</th>\n",
              "      <th>nota</th>\n",
              "      <th>momento</th>\n",
              "    </tr>\n",
              "  </thead>\n",
              "  <tbody>\n",
              "    <tr>\n",
              "      <th>0</th>\n",
              "      <td>1</td>\n",
              "      <td>1</td>\n",
              "      <td>4.0</td>\n",
              "      <td>964982703</td>\n",
              "    </tr>\n",
              "    <tr>\n",
              "      <th>1</th>\n",
              "      <td>1</td>\n",
              "      <td>3</td>\n",
              "      <td>4.0</td>\n",
              "      <td>964981247</td>\n",
              "    </tr>\n",
              "    <tr>\n",
              "      <th>2</th>\n",
              "      <td>1</td>\n",
              "      <td>6</td>\n",
              "      <td>4.0</td>\n",
              "      <td>964982224</td>\n",
              "    </tr>\n",
              "    <tr>\n",
              "      <th>3</th>\n",
              "      <td>1</td>\n",
              "      <td>47</td>\n",
              "      <td>5.0</td>\n",
              "      <td>964983815</td>\n",
              "    </tr>\n",
              "    <tr>\n",
              "      <th>4</th>\n",
              "      <td>1</td>\n",
              "      <td>50</td>\n",
              "      <td>5.0</td>\n",
              "      <td>964982931</td>\n",
              "    </tr>\n",
              "  </tbody>\n",
              "</table>\n",
              "</div>"
            ],
            "text/plain": [
              "   usuarioId  filmeId  nota    momento\n",
              "0          1        1   4.0  964982703\n",
              "1          1        3   4.0  964981247\n",
              "2          1        6   4.0  964982224\n",
              "3          1       47   5.0  964983815\n",
              "4          1       50   5.0  964982931"
            ]
          },
          "metadata": {
            "tags": []
          },
          "execution_count": 4
        }
      ]
    },
    {
      "cell_type": "code",
      "metadata": {
        "id": "wuk6bnRp6hGF",
        "colab": {
          "base_uri": "https://localhost:8080/",
          "height": 303
        },
        "outputId": "842eb273-d0da-463c-ab63-e453e0a345de"
      },
      "source": [
        "notas['nota'].unique()\n",
        "notas['nota'].value_counts()\n",
        "notas.nota.plot(kind='hist')\n",
        "\n",
        "print(\"Média\", notas.nota.mean())\n",
        "print(\"Mediana\", notas.nota.median())"
      ],
      "execution_count": null,
      "outputs": [
        {
          "output_type": "stream",
          "text": [
            "Média 3.501556983616962\n",
            "Mediana 3.5\n"
          ],
          "name": "stdout"
        },
        {
          "output_type": "display_data",
          "data": {
            "image/png": "[encoded data removed]",
            "text/plain": [
              "<Figure size 432x288 with 1 Axes>"
            ]
          },
          "metadata": {
            "tags": []
          }
        }
      ]
    },
    {
      "cell_type": "code",
      "metadata": {
        "id": "7Amuosia6kyl",
        "colab": {
          "base_uri": "https://localhost:8080/",
          "height": 170
        },
        "outputId": "0c584a24-0696-4677-86ef-6a1d9dda23f6"
      },
      "source": [
        "notas.nota.describe()"
      ],
      "execution_count": null,
      "outputs": [
        {
          "output_type": "execute_result",
          "data": {
            "text/plain": [
              "count    100836.000000\n",
              "mean          3.501557\n",
              "std           1.042529\n",
              "min           0.500000\n",
              "25%           3.000000\n",
              "50%           3.500000\n",
              "75%           4.000000\n",
              "max           5.000000\n",
              "Name: nota, dtype: float64"
            ]
          },
          "metadata": {
            "tags": []
          },
          "execution_count": 101
        }
      ]
    },
    {
      "cell_type": "code",
      "metadata": {
        "id": "QNMkUw7J6mgv",
        "colab": {
          "base_uri": "https://localhost:8080/",
          "height": 300
        },
        "outputId": "c379e8bb-f6f4-4db4-aa00-e8c6b174197c"
      },
      "source": [
        "import seaborn as sns\n",
        "sns.boxplot(notas.nota)"
      ],
      "execution_count": null,
      "outputs": [
        {
          "output_type": "execute_result",
          "data": {
            "text/plain": [
              "<matplotlib.axes._subplots.AxesSubplot at 0x7f8b23b77cf8>"
            ]
          },
          "metadata": {
            "tags": []
          },
          "execution_count": 102
        },
        {
          "output_type": "display_data",
          "data": {
            "image/png": "[encoded data removed]",
            "text/plain": [
              "<Figure size 432x288 with 1 Axes>"
            ]
          },
          "metadata": {
            "tags": []
          }
        }
      ]
    },
    {
      "cell_type": "code",
      "metadata": {
        "id": "NIf2MrS0FjOu",
        "colab": {
          "base_uri": "https://localhost:8080/",
          "height": 221
        },
        "outputId": "21d9bf81-bf90-4392-99a7-42e81b018161"
      },
      "source": [
        "filmes = pd.read_csv(\"sample_data/movies.csv\")\n",
        "filmes.columns = [\"filmeId\", \"titulo\", \"genero\"]\n",
        "filmes.head()\n"
      ],
      "execution_count": null,
      "outputs": [
        {
          "output_type": "execute_result",
          "data": {
            "text/html": [
              "<div>\n",
              "<style scoped>\n",
              "    .dataframe tbody tr th:only-of-type {\n",
              "        vertical-align: middle;\n",
              "    }\n",
              "\n",
              "    .dataframe tbody tr th {\n",
              "        vertical-align: top;\n",
              "    }\n",
              "\n",
              "    .dataframe thead th {\n",
              "        text-align: right;\n",
              "    }\n",
              "</style>\n",
              "<table border=\"1\" class=\"dataframe\">\n",
              "  <thead>\n",
              "    <tr style=\"text-align: right;\">\n",
              "      <th></th>\n",
              "      <th>filmeId</th>\n",
              "      <th>titulo</th>\n",
              "      <th>genero</th>\n",
              "    </tr>\n",
              "  </thead>\n",
              "  <tbody>\n",
              "    <tr>\n",
              "      <th>0</th>\n",
              "      <td>1</td>\n",
              "      <td>Toy Story (1995)</td>\n",
              "      <td>Adventure|Animation|Children|Comedy|Fantasy</td>\n",
              "    </tr>\n",
              "    <tr>\n",
              "      <th>1</th>\n",
              "      <td>2</td>\n",
              "      <td>Jumanji (1995)</td>\n",
              "      <td>Adventure|Children|Fantasy</td>\n",
              "    </tr>\n",
              "    <tr>\n",
              "      <th>2</th>\n",
              "      <td>3</td>\n",
              "      <td>Grumpier Old Men (1995)</td>\n",
              "      <td>Comedy|Romance</td>\n",
              "    </tr>\n",
              "    <tr>\n",
              "      <th>3</th>\n",
              "      <td>4</td>\n",
              "      <td>Waiting to Exhale (1995)</td>\n",
              "      <td>Comedy|Drama|Romance</td>\n",
              "    </tr>\n",
              "    <tr>\n",
              "      <th>4</th>\n",
              "      <td>5</td>\n",
              "      <td>Father of the Bride Part II (1995)</td>\n",
              "      <td>Comedy</td>\n",
              "    </tr>\n",
              "  </tbody>\n",
              "</table>\n",
              "</div>"
            ],
            "text/plain": [
              "   filmeId  ...                                       genero\n",
              "0        1  ...  Adventure|Animation|Children|Comedy|Fantasy\n",
              "1        2  ...                   Adventure|Children|Fantasy\n",
              "2        3  ...                               Comedy|Romance\n",
              "3        4  ...                         Comedy|Drama|Romance\n",
              "4        5  ...                                       Comedy\n",
              "\n",
              "[5 rows x 3 columns]"
            ]
          },
          "metadata": {
            "tags": []
          },
          "execution_count": 103
        }
      ]
    },
    {
      "cell_type": "markdown",
      "metadata": {
        "id": "5TlyK4ukGrEU"
      },
      "source": [
        "#Olhando os filmes"
      ]
    },
    {
      "cell_type": "code",
      "metadata": {
        "id": "Sp2nJXPqGVNc",
        "colab": {
          "base_uri": "https://localhost:8080/",
          "height": 34
        },
        "outputId": "955fa5e1-24c7-45cf-bf25-64aea4588999"
      },
      "source": [
        "notas.query(\"filmeId == 1\").nota.mean()"
      ],
      "execution_count": null,
      "outputs": [
        {
          "output_type": "execute_result",
          "data": {
            "text/plain": [
              "3.9209302325581397"
            ]
          },
          "metadata": {
            "tags": []
          },
          "execution_count": 104
        }
      ]
    },
    {
      "cell_type": "code",
      "metadata": {
        "id": "SVDRwhdhG9cU",
        "colab": {
          "base_uri": "https://localhost:8080/",
          "height": 136
        },
        "outputId": "1b7618ae-5973-4214-8f34-b37ac3f6871f"
      },
      "source": [
        "medias_por_filme = notas.groupby(\"filmeId\").mean().nota\n",
        "medias_por_filme.head()"
      ],
      "execution_count": null,
      "outputs": [
        {
          "output_type": "execute_result",
          "data": {
            "text/plain": [
              "filmeId\n",
              "1    3.920930\n",
              "2    3.431818\n",
              "3    3.259615\n",
              "4    2.357143\n",
              "5    3.071429\n",
              "Name: nota, dtype: float64"
            ]
          },
          "metadata": {
            "tags": []
          },
          "execution_count": 105
        }
      ]
    },
    {
      "cell_type": "code",
      "metadata": {
        "id": "9EHYSggfIMhH",
        "colab": {
          "base_uri": "https://localhost:8080/",
          "height": 286
        },
        "outputId": "22d200ac-d26b-4ac3-857a-840ffb2d8ceb"
      },
      "source": [
        "medias_por_filme.plot(kind='hist')"
      ],
      "execution_count": null,
      "outputs": [
        {
          "output_type": "execute_result",
          "data": {
            "text/plain": [
              "<matplotlib.axes._subplots.AxesSubplot at 0x7f8b23aeeac8>"
            ]
          },
          "metadata": {
            "tags": []
          },
          "execution_count": 106
        },
        {
          "output_type": "display_data",
          "data": {
            "image/png": "[encoded data removed]",
            "text/plain": [
              "<Figure size 432x288 with 1 Axes>"
            ]
          },
          "metadata": {
            "tags": []
          }
        }
      ]
    },
    {
      "cell_type": "code",
      "metadata": {
        "id": "xb4vt3UIIVSk",
        "colab": {
          "base_uri": "https://localhost:8080/",
          "height": 300
        },
        "outputId": "7d876ccf-a082-4f64-d7c1-1e5d8c2a4463"
      },
      "source": [
        "sns.boxplot(medias_por_filme)"
      ],
      "execution_count": null,
      "outputs": [
        {
          "output_type": "execute_result",
          "data": {
            "text/plain": [
              "<matplotlib.axes._subplots.AxesSubplot at 0x7f8b22ea30b8>"
            ]
          },
          "metadata": {
            "tags": []
          },
          "execution_count": 107
        },
        {
          "output_type": "display_data",
          "data": {
            "image/png": "[encoded data removed]",
            "text/plain": [
              "<Figure size 432x288 with 1 Axes>"
            ]
          },
          "metadata": {
            "tags": []
          }
        }
      ]
    },
    {
      "cell_type": "code",
      "metadata": {
        "id": "hMCWw9u4IkgE",
        "colab": {
          "base_uri": "https://localhost:8080/",
          "height": 170
        },
        "outputId": "abcebc69-d9a5-445e-9f75-8d973758003a"
      },
      "source": [
        "medias_por_filme.describe()"
      ],
      "execution_count": null,
      "outputs": [
        {
          "output_type": "execute_result",
          "data": {
            "text/plain": [
              "count    9724.000000\n",
              "mean        3.262448\n",
              "std         0.869874\n",
              "min         0.500000\n",
              "25%         2.800000\n",
              "50%         3.416667\n",
              "75%         3.911765\n",
              "max         5.000000\n",
              "Name: nota, dtype: float64"
            ]
          },
          "metadata": {
            "tags": []
          },
          "execution_count": 108
        }
      ]
    },
    {
      "cell_type": "code",
      "metadata": {
        "id": "jA_Oh9wAI26Q",
        "colab": {
          "base_uri": "https://localhost:8080/",
          "height": 300
        },
        "outputId": "4070a2cf-48b2-4254-dac2-3c741b007cf1"
      },
      "source": [
        "sns.distplot(medias_por_filme, bins=10)"
      ],
      "execution_count": null,
      "outputs": [
        {
          "output_type": "execute_result",
          "data": {
            "text/plain": [
              "<matplotlib.axes._subplots.AxesSubplot at 0x7f8b23030128>"
            ]
          },
          "metadata": {
            "tags": []
          },
          "execution_count": 109
        },
        {
          "output_type": "display_data",
          "data": {
            "image/png": "[encoded data removed]",
            "text/plain": [
              "<Figure size 432x288 with 1 Axes>"
            ]
          },
          "metadata": {
            "tags": []
          }
        }
      ]
    },
    {
      "cell_type": "code",
      "metadata": {
        "id": "ay_Oc8DkJdQA",
        "colab": {
          "base_uri": "https://localhost:8080/",
          "height": 298
        },
        "outputId": "8f627edc-86b0-43bc-cc9e-30143ebd4b1b"
      },
      "source": [
        "import matplotlib.pyplot as plt\n",
        "plt.hist(medias_por_filme)\n",
        "plt.title(\"Histograma das médias dos filmes\")"
      ],
      "execution_count": null,
      "outputs": [
        {
          "output_type": "execute_result",
          "data": {
            "text/plain": [
              "Text(0.5, 1.0, 'Histograma das médias dos filmes')"
            ]
          },
          "metadata": {
            "tags": []
          },
          "execution_count": 110
        },
        {
          "output_type": "display_data",
          "data": {
            "image/png": "[encoded data removed]",
            "text/plain": [
              "<Figure size 432x288 with 1 Axes>"
            ]
          },
          "metadata": {
            "tags": []
          }
        }
      ]
    },
    {
      "cell_type": "code",
      "metadata": {
        "id": "wftCN8gC4lgB",
        "colab": {
          "base_uri": "https://localhost:8080/",
          "height": 683
        },
        "outputId": "e5b522a2-913c-4f0d-bcbc-c43ad536f449"
      },
      "source": [
        "tmdb = pd.read_csv(\"sample_data/tmdb_5000_movies.csv\")\n",
        "tmdb.head()"
      ],
      "execution_count": null,
      "outputs": [
        {
          "output_type": "execute_result",
          "data": {
            "text/html": [
              "<div>\n",
              "<style scoped>\n",
              "    .dataframe tbody tr th:only-of-type {\n",
              "        vertical-align: middle;\n",
              "    }\n",
              "\n",
              "    .dataframe tbody tr th {\n",
              "        vertical-align: top;\n",
              "    }\n",
              "\n",
              "    .dataframe thead th {\n",
              "        text-align: right;\n",
              "    }\n",
              "</style>\n",
              "<table border=\"1\" class=\"dataframe\">\n",
              "  <thead>\n",
              "    <tr style=\"text-align: right;\">\n",
              "      <th></th>\n",
              "      <th>budget</th>\n",
              "      <th>genres</th>\n",
              "      <th>homepage</th>\n",
              "      <th>id</th>\n",
              "      <th>keywords</th>\n",
              "      <th>original_language</th>\n",
              "      <th>original_title</th>\n",
              "      <th>overview</th>\n",
              "      <th>popularity</th>\n",
              "      <th>production_companies</th>\n",
              "      <th>production_countries</th>\n",
              "      <th>release_date</th>\n",
              "      <th>revenue</th>\n",
              "      <th>runtime</th>\n",
              "      <th>spoken_languages</th>\n",
              "      <th>status</th>\n",
              "      <th>tagline</th>\n",
              "      <th>title</th>\n",
              "      <th>vote_average</th>\n",
              "      <th>vote_count</th>\n",
              "    </tr>\n",
              "  </thead>\n",
              "  <tbody>\n",
              "    <tr>\n",
              "      <th>0</th>\n",
              "      <td>237000000</td>\n",
              "      <td>[{\"id\": 28, \"name\": \"Action\"}, {\"id\": 12, \"nam...</td>\n",
              "      <td>http://www.avatarmovie.com/</td>\n",
              "      <td>19995</td>\n",
              "      <td>[{\"id\": 1463, \"name\": \"culture clash\"}, {\"id\":...</td>\n",
              "      <td>en</td>\n",
              "      <td>Avatar</td>\n",
              "      <td>In the 22nd century, a paraplegic Marine is di...</td>\n",
              "      <td>150.437577</td>\n",
              "      <td>[{\"name\": \"Ingenious Film Partners\", \"id\": 289...</td>\n",
              "      <td>[{\"iso_3166_1\": \"US\", \"name\": \"United States o...</td>\n",
              "      <td>2009-12-10</td>\n",
              "      <td>2787965087</td>\n",
              "      <td>162.0</td>\n",
              "      <td>[{\"iso_639_1\": \"en\", \"name\": \"English\"}, {\"iso...</td>\n",
              "      <td>Released</td>\n",
              "      <td>Enter the World of Pandora.</td>\n",
              "      <td>Avatar</td>\n",
              "      <td>7.2</td>\n",
              "      <td>11800</td>\n",
              "    </tr>\n",
              "    <tr>\n",
              "      <th>1</th>\n",
              "      <td>300000000</td>\n",
              "      <td>[{\"id\": 12, \"name\": \"Adventure\"}, {\"id\": 14, \"...</td>\n",
              "      <td>http://disney.go.com/disneypictures/pirates/</td>\n",
              "      <td>285</td>\n",
              "      <td>[{\"id\": 270, \"name\": \"ocean\"}, {\"id\": 726, \"na...</td>\n",
              "      <td>en</td>\n",
              "      <td>Pirates of the Caribbean: At World's End</td>\n",
              "      <td>Captain Barbossa, long believed to be dead, ha...</td>\n",
              "      <td>139.082615</td>\n",
              "      <td>[{\"name\": \"Walt Disney Pictures\", \"id\": 2}, {\"...</td>\n",
              "      <td>[{\"iso_3166_1\": \"US\", \"name\": \"United States o...</td>\n",
              "      <td>2007-05-19</td>\n",
              "      <td>961000000</td>\n",
              "      <td>169.0</td>\n",
              "      <td>[{\"iso_639_1\": \"en\", \"name\": \"English\"}]</td>\n",
              "      <td>Released</td>\n",
              "      <td>At the end of the world, the adventure begins.</td>\n",
              "      <td>Pirates of the Caribbean: At World's End</td>\n",
              "      <td>6.9</td>\n",
              "      <td>4500</td>\n",
              "    </tr>\n",
              "    <tr>\n",
              "      <th>2</th>\n",
              "      <td>245000000</td>\n",
              "      <td>[{\"id\": 28, \"name\": \"Action\"}, {\"id\": 12, \"nam...</td>\n",
              "      <td>http://www.sonypictures.com/movies/spectre/</td>\n",
              "      <td>206647</td>\n",
              "      <td>[{\"id\": 470, \"name\": \"spy\"}, {\"id\": 818, \"name...</td>\n",
              "      <td>en</td>\n",
              "      <td>Spectre</td>\n",
              "      <td>A cryptic message from Bond’s past sends him o...</td>\n",
              "      <td>107.376788</td>\n",
              "      <td>[{\"name\": \"Columbia Pictures\", \"id\": 5}, {\"nam...</td>\n",
              "      <td>[{\"iso_3166_1\": \"GB\", \"name\": \"United Kingdom\"...</td>\n",
              "      <td>2015-10-26</td>\n",
              "      <td>880674609</td>\n",
              "      <td>148.0</td>\n",
              "      <td>[{\"iso_639_1\": \"fr\", \"name\": \"Fran\\u00e7ais\"},...</td>\n",
              "      <td>Released</td>\n",
              "      <td>A Plan No One Escapes</td>\n",
              "      <td>Spectre</td>\n",
              "      <td>6.3</td>\n",
              "      <td>4466</td>\n",
              "    </tr>\n",
              "    <tr>\n",
              "      <th>3</th>\n",
              "      <td>250000000</td>\n",
              "      <td>[{\"id\": 28, \"name\": \"Action\"}, {\"id\": 80, \"nam...</td>\n",
              "      <td>http://www.thedarkknightrises.com/</td>\n",
              "      <td>49026</td>\n",
              "      <td>[{\"id\": 849, \"name\": \"dc comics\"}, {\"id\": 853,...</td>\n",
              "      <td>en</td>\n",
              "      <td>The Dark Knight Rises</td>\n",
              "      <td>Following the death of District Attorney Harve...</td>\n",
              "      <td>112.312950</td>\n",
              "      <td>[{\"name\": \"Legendary Pictures\", \"id\": 923}, {\"...</td>\n",
              "      <td>[{\"iso_3166_1\": \"US\", \"name\": \"United States o...</td>\n",
              "      <td>2012-07-16</td>\n",
              "      <td>1084939099</td>\n",
              "      <td>165.0</td>\n",
              "      <td>[{\"iso_639_1\": \"en\", \"name\": \"English\"}]</td>\n",
              "      <td>Released</td>\n",
              "      <td>The Legend Ends</td>\n",
              "      <td>The Dark Knight Rises</td>\n",
              "      <td>7.6</td>\n",
              "      <td>9106</td>\n",
              "    </tr>\n",
              "    <tr>\n",
              "      <th>4</th>\n",
              "      <td>260000000</td>\n",
              "      <td>[{\"id\": 28, \"name\": \"Action\"}, {\"id\": 12, \"nam...</td>\n",
              "      <td>http://movies.disney.com/john-carter</td>\n",
              "      <td>49529</td>\n",
              "      <td>[{\"id\": 818, \"name\": \"based on novel\"}, {\"id\":...</td>\n",
              "      <td>en</td>\n",
              "      <td>John Carter</td>\n",
              "      <td>John Carter is a war-weary, former military ca...</td>\n",
              "      <td>43.926995</td>\n",
              "      <td>[{\"name\": \"Walt Disney Pictures\", \"id\": 2}]</td>\n",
              "      <td>[{\"iso_3166_1\": \"US\", \"name\": \"United States o...</td>\n",
              "      <td>2012-03-07</td>\n",
              "      <td>284139100</td>\n",
              "      <td>132.0</td>\n",
              "      <td>[{\"iso_639_1\": \"en\", \"name\": \"English\"}]</td>\n",
              "      <td>Released</td>\n",
              "      <td>Lost in our world, found in another.</td>\n",
              "      <td>John Carter</td>\n",
              "      <td>6.1</td>\n",
              "      <td>2124</td>\n",
              "    </tr>\n",
              "  </tbody>\n",
              "</table>\n",
              "</div>"
            ],
            "text/plain": [
              "      budget  ... vote_count\n",
              "0  237000000  ...      11800\n",
              "1  300000000  ...       4500\n",
              "2  245000000  ...       4466\n",
              "3  250000000  ...       9106\n",
              "4  260000000  ...       2124\n",
              "\n",
              "[5 rows x 20 columns]"
            ]
          },
          "metadata": {
            "tags": []
          },
          "execution_count": 111
        }
      ]
    },
    {
      "cell_type": "code",
      "metadata": {
        "id": "LPQiQ5dd5riV",
        "colab": {
          "base_uri": "https://localhost:8080/",
          "height": 85
        },
        "outputId": "a8ef160e-1057-406f-8a21-e924e1fe3023"
      },
      "source": [
        "tmdb.original_language.unique()"
      ],
      "execution_count": null,
      "outputs": [
        {
          "output_type": "execute_result",
          "data": {
            "text/plain": [
              "array(['en', 'ja', 'fr', 'zh', 'es', 'de', 'hi', 'ru', 'ko', 'te', 'cn',\n",
              "       'it', 'nl', 'ta', 'sv', 'th', 'da', 'xx', 'hu', 'cs', 'pt', 'is',\n",
              "       'tr', 'nb', 'af', 'pl', 'he', 'ar', 'vi', 'ky', 'id', 'ro', 'fa',\n",
              "       'no', 'sl', 'ps', 'el'], dtype=object)"
            ]
          },
          "metadata": {
            "tags": []
          },
          "execution_count": 112
        }
      ]
    },
    {
      "cell_type": "code",
      "metadata": {
        "id": "0qej4H9q7jTP",
        "colab": {
          "base_uri": "https://localhost:8080/",
          "height": 122
        },
        "outputId": "eda72be7-72d4-4191-a809-cfd6943be67d"
      },
      "source": [
        "tmdb[\"original_language\"].value_counts().index"
      ],
      "execution_count": null,
      "outputs": [
        {
          "output_type": "execute_result",
          "data": {
            "text/plain": [
              "Index(['en', 'fr', 'es', 'de', 'zh', 'hi', 'ja', 'it', 'cn', 'ko', 'ru', 'pt',\n",
              "       'da', 'sv', 'fa', 'nl', 'he', 'th', 'ro', 'id', 'ta', 'cs', 'ar', 'ky',\n",
              "       'hu', 'af', 'nb', 'tr', 'pl', 'te', 'el', 'sl', 'xx', 'ps', 'is', 'vi',\n",
              "       'no'],\n",
              "      dtype='object')"
            ]
          },
          "metadata": {
            "tags": []
          },
          "execution_count": 113
        }
      ]
    },
    {
      "cell_type": "code",
      "metadata": {
        "id": "82pOpRHx8HcP",
        "colab": {
          "base_uri": "https://localhost:8080/",
          "height": 85
        },
        "outputId": "2f2bff0a-7374-48eb-de8c-99ee2b49db32"
      },
      "source": [
        "tmdb[\"original_language\"].value_counts().values"
      ],
      "execution_count": null,
      "outputs": [
        {
          "output_type": "execute_result",
          "data": {
            "text/plain": [
              "array([4505,   70,   32,   27,   27,   19,   16,   14,   12,   11,   11,\n",
              "          9,    7,    5,    4,    4,    3,    3,    2,    2,    2,    2,\n",
              "          2,    1,    1,    1,    1,    1,    1,    1,    1,    1,    1,\n",
              "          1,    1,    1,    1])"
            ]
          },
          "metadata": {
            "tags": []
          },
          "execution_count": 114
        }
      ]
    },
    {
      "cell_type": "code",
      "metadata": {
        "id": "mytZruNW8XVT",
        "colab": {
          "base_uri": "https://localhost:8080/",
          "height": 1000
        },
        "outputId": "f1dff351-3bc6-46a3-cccb-87e53b297a32"
      },
      "source": [
        "tmdb[\"original_language\"].value_counts().to_frame()"
      ],
      "execution_count": null,
      "outputs": [
        {
          "output_type": "execute_result",
          "data": {
            "text/html": [
              "<div>\n",
              "<style scoped>\n",
              "    .dataframe tbody tr th:only-of-type {\n",
              "        vertical-align: middle;\n",
              "    }\n",
              "\n",
              "    .dataframe tbody tr th {\n",
              "        vertical-align: top;\n",
              "    }\n",
              "\n",
              "    .dataframe thead th {\n",
              "        text-align: right;\n",
              "    }\n",
              "</style>\n",
              "<table border=\"1\" class=\"dataframe\">\n",
              "  <thead>\n",
              "    <tr style=\"text-align: right;\">\n",
              "      <th></th>\n",
              "      <th>original_language</th>\n",
              "    </tr>\n",
              "  </thead>\n",
              "  <tbody>\n",
              "    <tr>\n",
              "      <th>en</th>\n",
              "      <td>4505</td>\n",
              "    </tr>\n",
              "    <tr>\n",
              "      <th>fr</th>\n",
              "      <td>70</td>\n",
              "    </tr>\n",
              "    <tr>\n",
              "      <th>es</th>\n",
              "      <td>32</td>\n",
              "    </tr>\n",
              "    <tr>\n",
              "      <th>de</th>\n",
              "      <td>27</td>\n",
              "    </tr>\n",
              "    <tr>\n",
              "      <th>zh</th>\n",
              "      <td>27</td>\n",
              "    </tr>\n",
              "    <tr>\n",
              "      <th>hi</th>\n",
              "      <td>19</td>\n",
              "    </tr>\n",
              "    <tr>\n",
              "      <th>ja</th>\n",
              "      <td>16</td>\n",
              "    </tr>\n",
              "    <tr>\n",
              "      <th>it</th>\n",
              "      <td>14</td>\n",
              "    </tr>\n",
              "    <tr>\n",
              "      <th>cn</th>\n",
              "      <td>12</td>\n",
              "    </tr>\n",
              "    <tr>\n",
              "      <th>ko</th>\n",
              "      <td>11</td>\n",
              "    </tr>\n",
              "    <tr>\n",
              "      <th>ru</th>\n",
              "      <td>11</td>\n",
              "    </tr>\n",
              "    <tr>\n",
              "      <th>pt</th>\n",
              "      <td>9</td>\n",
              "    </tr>\n",
              "    <tr>\n",
              "      <th>da</th>\n",
              "      <td>7</td>\n",
              "    </tr>\n",
              "    <tr>\n",
              "      <th>sv</th>\n",
              "      <td>5</td>\n",
              "    </tr>\n",
              "    <tr>\n",
              "      <th>fa</th>\n",
              "      <td>4</td>\n",
              "    </tr>\n",
              "    <tr>\n",
              "      <th>nl</th>\n",
              "      <td>4</td>\n",
              "    </tr>\n",
              "    <tr>\n",
              "      <th>he</th>\n",
              "      <td>3</td>\n",
              "    </tr>\n",
              "    <tr>\n",
              "      <th>th</th>\n",
              "      <td>3</td>\n",
              "    </tr>\n",
              "    <tr>\n",
              "      <th>ro</th>\n",
              "      <td>2</td>\n",
              "    </tr>\n",
              "    <tr>\n",
              "      <th>id</th>\n",
              "      <td>2</td>\n",
              "    </tr>\n",
              "    <tr>\n",
              "      <th>ta</th>\n",
              "      <td>2</td>\n",
              "    </tr>\n",
              "    <tr>\n",
              "      <th>cs</th>\n",
              "      <td>2</td>\n",
              "    </tr>\n",
              "    <tr>\n",
              "      <th>ar</th>\n",
              "      <td>2</td>\n",
              "    </tr>\n",
              "    <tr>\n",
              "      <th>ky</th>\n",
              "      <td>1</td>\n",
              "    </tr>\n",
              "    <tr>\n",
              "      <th>hu</th>\n",
              "      <td>1</td>\n",
              "    </tr>\n",
              "    <tr>\n",
              "      <th>af</th>\n",
              "      <td>1</td>\n",
              "    </tr>\n",
              "    <tr>\n",
              "      <th>nb</th>\n",
              "      <td>1</td>\n",
              "    </tr>\n",
              "    <tr>\n",
              "      <th>tr</th>\n",
              "      <td>1</td>\n",
              "    </tr>\n",
              "    <tr>\n",
              "      <th>pl</th>\n",
              "      <td>1</td>\n",
              "    </tr>\n",
              "    <tr>\n",
              "      <th>te</th>\n",
              "      <td>1</td>\n",
              "    </tr>\n",
              "    <tr>\n",
              "      <th>el</th>\n",
              "      <td>1</td>\n",
              "    </tr>\n",
              "    <tr>\n",
              "      <th>sl</th>\n",
              "      <td>1</td>\n",
              "    </tr>\n",
              "    <tr>\n",
              "      <th>xx</th>\n",
              "      <td>1</td>\n",
              "    </tr>\n",
              "    <tr>\n",
              "      <th>ps</th>\n",
              "      <td>1</td>\n",
              "    </tr>\n",
              "    <tr>\n",
              "      <th>is</th>\n",
              "      <td>1</td>\n",
              "    </tr>\n",
              "    <tr>\n",
              "      <th>vi</th>\n",
              "      <td>1</td>\n",
              "    </tr>\n",
              "    <tr>\n",
              "      <th>no</th>\n",
              "      <td>1</td>\n",
              "    </tr>\n",
              "  </tbody>\n",
              "</table>\n",
              "</div>"
            ],
            "text/plain": [
              "    original_language\n",
              "en               4505\n",
              "fr                 70\n",
              "es                 32\n",
              "de                 27\n",
              "zh                 27\n",
              "hi                 19\n",
              "ja                 16\n",
              "it                 14\n",
              "cn                 12\n",
              "ko                 11\n",
              "ru                 11\n",
              "pt                  9\n",
              "da                  7\n",
              "sv                  5\n",
              "fa                  4\n",
              "nl                  4\n",
              "he                  3\n",
              "th                  3\n",
              "ro                  2\n",
              "id                  2\n",
              "ta                  2\n",
              "cs                  2\n",
              "ar                  2\n",
              "ky                  1\n",
              "hu                  1\n",
              "af                  1\n",
              "nb                  1\n",
              "tr                  1\n",
              "pl                  1\n",
              "te                  1\n",
              "el                  1\n",
              "sl                  1\n",
              "xx                  1\n",
              "ps                  1\n",
              "is                  1\n",
              "vi                  1\n",
              "no                  1"
            ]
          },
          "metadata": {
            "tags": []
          },
          "execution_count": 115
        }
      ]
    },
    {
      "cell_type": "code",
      "metadata": {
        "id": "jP3MtZM18cY4",
        "colab": {
          "base_uri": "https://localhost:8080/",
          "height": 204
        },
        "outputId": "8f85a75d-c58b-4afc-ba1b-c4f9e78f3fb9"
      },
      "source": [
        "contagem_lingua = tmdb[\"original_language\"].value_counts().to_frame().reset_index()\n",
        "contagem_lingua.columns = [\"original_language\", \"total\"]\n",
        "contagem_lingua.head()"
      ],
      "execution_count": null,
      "outputs": [
        {
          "output_type": "execute_result",
          "data": {
            "text/html": [
              "<div>\n",
              "<style scoped>\n",
              "    .dataframe tbody tr th:only-of-type {\n",
              "        vertical-align: middle;\n",
              "    }\n",
              "\n",
              "    .dataframe tbody tr th {\n",
              "        vertical-align: top;\n",
              "    }\n",
              "\n",
              "    .dataframe thead th {\n",
              "        text-align: right;\n",
              "    }\n",
              "</style>\n",
              "<table border=\"1\" class=\"dataframe\">\n",
              "  <thead>\n",
              "    <tr style=\"text-align: right;\">\n",
              "      <th></th>\n",
              "      <th>original_language</th>\n",
              "      <th>total</th>\n",
              "    </tr>\n",
              "  </thead>\n",
              "  <tbody>\n",
              "    <tr>\n",
              "      <th>0</th>\n",
              "      <td>en</td>\n",
              "      <td>4505</td>\n",
              "    </tr>\n",
              "    <tr>\n",
              "      <th>1</th>\n",
              "      <td>fr</td>\n",
              "      <td>70</td>\n",
              "    </tr>\n",
              "    <tr>\n",
              "      <th>2</th>\n",
              "      <td>es</td>\n",
              "      <td>32</td>\n",
              "    </tr>\n",
              "    <tr>\n",
              "      <th>3</th>\n",
              "      <td>de</td>\n",
              "      <td>27</td>\n",
              "    </tr>\n",
              "    <tr>\n",
              "      <th>4</th>\n",
              "      <td>zh</td>\n",
              "      <td>27</td>\n",
              "    </tr>\n",
              "  </tbody>\n",
              "</table>\n",
              "</div>"
            ],
            "text/plain": [
              "  original_language  total\n",
              "0                en   4505\n",
              "1                fr     70\n",
              "2                es     32\n",
              "3                de     27\n",
              "4                zh     27"
            ]
          },
          "metadata": {
            "tags": []
          },
          "execution_count": 116
        }
      ]
    },
    {
      "cell_type": "code",
      "metadata": {
        "id": "52cOiliO9dYn",
        "colab": {
          "base_uri": "https://localhost:8080/",
          "height": 301
        },
        "outputId": "49b91257-bdb1-4267-ee8c-cde6243900ee"
      },
      "source": [
        "sns.barplot(x=\"original_language\", y=\"total\", data = contagem_lingua)"
      ],
      "execution_count": null,
      "outputs": [
        {
          "output_type": "execute_result",
          "data": {
            "text/plain": [
              "<matplotlib.axes._subplots.AxesSubplot at 0x7f8b228ffda0>"
            ]
          },
          "metadata": {
            "tags": []
          },
          "execution_count": 117
        },
        {
          "output_type": "display_data",
          "data": {
            "image/png": "[encoded data removed]",
            "text/plain": [
              "<Figure size 432x288 with 1 Axes>"
            ]
          },
          "metadata": {
            "tags": []
          }
        }
      ]
    },
    {
      "cell_type": "code",
      "metadata": {
        "id": "XSfsHApT-BBn",
        "colab": {
          "base_uri": "https://localhost:8080/",
          "height": 386
        },
        "outputId": "4bf0a709-f41f-416a-fd8a-694c82be7c60"
      },
      "source": [
        "sns.catplot(x=\"original_language\", kind=\"count\", data= tmdb)"
      ],
      "execution_count": null,
      "outputs": [
        {
          "output_type": "execute_result",
          "data": {
            "text/plain": [
              "<seaborn.axisgrid.FacetGrid at 0x7f8b2280aa58>"
            ]
          },
          "metadata": {
            "tags": []
          },
          "execution_count": 118
        },
        {
          "output_type": "display_data",
          "data": {
            "image/png": "[encoded data removed]",
            "text/plain": [
              "<Figure size 360x360 with 1 Axes>"
            ]
          },
          "metadata": {
            "tags": []
          }
        }
      ]
    },
    {
      "cell_type": "code",
      "metadata": {
        "id": "YH9CXVF7Bh3H",
        "colab": {
          "base_uri": "https://localhost:8080/",
          "height": 1000
        },
        "outputId": "1efa501a-5def-4ba9-9cca-5c831e6d3329"
      },
      "source": [
        "plt.pie(contagem_lingua[\"total\"], labels = contagem_lingua[\"original_language\"])"
      ],
      "execution_count": null,
      "outputs": [
        {
          "output_type": "execute_result",
          "data": {
            "text/plain": [
              "([<matplotlib.patches.Wedge at 0x7f8b22676320>,\n",
              "  <matplotlib.patches.Wedge at 0x7f8b22676828>,\n",
              "  <matplotlib.patches.Wedge at 0x7f8b22676cf8>,\n",
              "  <matplotlib.patches.Wedge at 0x7f8b2267e208>,\n",
              "  <matplotlib.patches.Wedge at 0x7f8b2267e6d8>,\n",
              "  <matplotlib.patches.Wedge at 0x7f8b2267eba8>,\n",
              "  <matplotlib.patches.Wedge at 0x7f8b226870b8>,\n",
              "  <matplotlib.patches.Wedge at 0x7f8b22687588>,\n",
              "  <matplotlib.patches.Wedge at 0x7f8b22687a58>,\n",
              "  <matplotlib.patches.Wedge at 0x7f8b22687f28>,\n",
              "  <matplotlib.patches.Wedge at 0x7f8b226c7d30>,\n",
              "  <matplotlib.patches.Wedge at 0x7f8b226938d0>,\n",
              "  <matplotlib.patches.Wedge at 0x7f8b22693da0>,\n",
              "  <matplotlib.patches.Wedge at 0x7f8b2269c2b0>,\n",
              "  <matplotlib.patches.Wedge at 0x7f8b2269c780>,\n",
              "  <matplotlib.patches.Wedge at 0x7f8b2269cc50>,\n",
              "  <matplotlib.patches.Wedge at 0x7f8b22627160>,\n",
              "  <matplotlib.patches.Wedge at 0x7f8b22627630>,\n",
              "  <matplotlib.patches.Wedge at 0x7f8b22627b00>,\n",
              "  <matplotlib.patches.Wedge at 0x7f8b22627fd0>,\n",
              "  <matplotlib.patches.Wedge at 0x7f8b2262f4e0>,\n",
              "  <matplotlib.patches.Wedge at 0x7f8b2262f9b0>,\n",
              "  <matplotlib.patches.Wedge at 0x7f8b2262fe80>,\n",
              "  <matplotlib.patches.Wedge at 0x7f8b22638390>,\n",
              "  <matplotlib.patches.Wedge at 0x7f8b22638860>,\n",
              "  <matplotlib.patches.Wedge at 0x7f8b22638d30>,\n",
              "  <matplotlib.patches.Wedge at 0x7f8b22642240>,\n",
              "  <matplotlib.patches.Wedge at 0x7f8b22642710>,\n",
              "  <matplotlib.patches.Wedge at 0x7f8b22642be0>,\n",
              "  <matplotlib.patches.Wedge at 0x7f8b2264d0f0>,\n",
              "  <matplotlib.patches.Wedge at 0x7f8b2264d5c0>,\n",
              "  <matplotlib.patches.Wedge at 0x7f8b2264da90>,\n",
              "  <matplotlib.patches.Wedge at 0x7f8b2264df60>,\n",
              "  <matplotlib.patches.Wedge at 0x7f8b22656470>,\n",
              "  <matplotlib.patches.Wedge at 0x7f8b22656940>,\n",
              "  <matplotlib.patches.Wedge at 0x7f8b22656e10>,\n",
              "  <matplotlib.patches.Wedge at 0x7f8b225e0320>],\n",
              " [Text(-1.0791697536499925, 0.2130554923183512, 'en'),\n",
              "  Text(1.0355355017029462, -0.3710339940124459, 'fr'),\n",
              "  Text(1.0579676486019882, -0.3011718023181785, 'es'),\n",
              "  Text(1.0687996606645356, -0.26012936274741094, 'de'),\n",
              "  Text(1.0773191105706255, -0.22222406260195313, 'zh'),\n",
              "  Text(1.0835167978583342, -0.18971386021801853, 'hi'),\n",
              "  Text(1.0875756432724297, -0.16486121484618815, 'ja'),\n",
              "  Text(1.0906010773146022, -0.14348968659882622, 'it'),\n",
              "  Text(1.092883487371409, -0.12492270822755745, 'cn'),\n",
              "  Text(1.0946390911069936, -0.10846778425161549, 'ko'),\n",
              "  Text(1.0960865535188649, -0.09270527058984593, 'ru'),\n",
              "  Text(1.0972054830031333, -0.07835896928789601, 'pt'),\n",
              "  Text(1.097965443340663, -0.06687215586282344, 'da'),\n",
              "  Text(1.0984565010300316, -0.05825217030171998, 'sv'),\n",
              "  Text(1.0987803851616647, -0.0517847968421653, 'fa'),\n",
              "  Text(1.0990363161210686, -0.04603450713357274, 'nl'),\n",
              "  Text(1.0992355702663055, -0.04100196411527794, 'he'),\n",
              "  Text(1.0993880184234357, -0.03668766750546649, 'th'),\n",
              "  Text(1.0995021239019234, -0.033091985965784415, 'ro'),\n",
              "  Text(1.099584941078101, -0.03021518416739545, 'id'),\n",
              "  Text(1.0996602312343366, -0.027338175536150495, 'ta'),\n",
              "  Text(1.099727993855245, -0.024460979766119193, 'cs'),\n",
              "  Text(1.0997882284769684, -0.02158361655264929, 'ar'),\n",
              "  Text(1.0998284639438185, -0.01942549610642471, 'ky'),\n",
              "  Text(1.0998529348820232, -0.01798670707495573, 'hu'),\n",
              "  Text(1.0998755236058106, -0.01654788726224571, 'af'),\n",
              "  Text(1.0998962300765243, -0.01510903913059323, 'nb'),\n",
              "  Text(1.0999150542587282, -0.013670165142345335, 'tr'),\n",
              "  Text(1.0999319961202083, -0.012231267759896247, 'pl'),\n",
              "  Text(1.0999470556319713, -0.01079234944567632, 'te'),\n",
              "  Text(1.099960232768245, -0.00935341266215563, 'el'),\n",
              "  Text(1.0999715275064792, -0.007914459871831963, 'sl'),\n",
              "  Text(1.0999809398273452, -0.006475493537234394, 'xx'),\n",
              "  Text(1.0999884697147349, -0.005036516120911278, 'ps'),\n",
              "  Text(1.0999941171557621, -0.0035975300854338356, 'is'),\n",
              "  Text(1.0999978821407626, -0.0021585378933851127, 'vi'),\n",
              "  Text(1.0999997646632929, -0.0007195420073586872, 'no')])"
            ]
          },
          "metadata": {
            "tags": []
          },
          "execution_count": 119
        },
        {
          "output_type": "display_data",
          "data": {
            "image/png": "[encoded data removed]",
            "text/plain": [
              "<Figure size 432x288 with 1 Axes>"
            ]
          },
          "metadata": {
            "tags": []
          }
        }
      ]
    },
    {
      "cell_type": "code",
      "metadata": {
        "id": "b4ElJJ1-D-dY",
        "colab": {
          "base_uri": "https://localhost:8080/",
          "height": 34
        },
        "outputId": "3ca4f1ad-e710-44b8-9b85-85b60bcd3528"
      },
      "source": [
        "total_por_lingua = tmdb[\"original_language\"].value_counts()\n",
        "total_geral = total_por_lingua.sum()\n",
        "total_de_ingles = total_por_lingua.loc[\"en\"]\n",
        "total_do_resto = total_geral - total_de_ingles\n",
        "print(total_de_ingles, total_do_resto)"
      ],
      "execution_count": null,
      "outputs": [
        {
          "output_type": "stream",
          "text": [
            "4505 298\n"
          ],
          "name": "stdout"
        }
      ]
    },
    {
      "cell_type": "code",
      "metadata": {
        "id": "ybHxXby-Eq0k",
        "colab": {
          "base_uri": "https://localhost:8080/",
          "height": 111
        },
        "outputId": "f2a5d88a-2b23-4992-8f35-a44a6765424d"
      },
      "source": [
        "dados = {\n",
        "    'lingua' : ['ingles','outros'],\n",
        "    'total' : [total_de_ingles, total_do_resto]\n",
        "}\n",
        "dados = pd.DataFrame(dados)\n",
        "dados"
      ],
      "execution_count": null,
      "outputs": [
        {
          "output_type": "execute_result",
          "data": {
            "text/html": [
              "<div>\n",
              "<style scoped>\n",
              "    .dataframe tbody tr th:only-of-type {\n",
              "        vertical-align: middle;\n",
              "    }\n",
              "\n",
              "    .dataframe tbody tr th {\n",
              "        vertical-align: top;\n",
              "    }\n",
              "\n",
              "    .dataframe thead th {\n",
              "        text-align: right;\n",
              "    }\n",
              "</style>\n",
              "<table border=\"1\" class=\"dataframe\">\n",
              "  <thead>\n",
              "    <tr style=\"text-align: right;\">\n",
              "      <th></th>\n",
              "      <th>lingua</th>\n",
              "      <th>total</th>\n",
              "    </tr>\n",
              "  </thead>\n",
              "  <tbody>\n",
              "    <tr>\n",
              "      <th>0</th>\n",
              "      <td>ingles</td>\n",
              "      <td>4505</td>\n",
              "    </tr>\n",
              "    <tr>\n",
              "      <th>1</th>\n",
              "      <td>outros</td>\n",
              "      <td>298</td>\n",
              "    </tr>\n",
              "  </tbody>\n",
              "</table>\n",
              "</div>"
            ],
            "text/plain": [
              "   lingua  total\n",
              "0  ingles   4505\n",
              "1  outros    298"
            ]
          },
          "metadata": {
            "tags": []
          },
          "execution_count": 121
        }
      ]
    },
    {
      "cell_type": "code",
      "metadata": {
        "id": "shYe8hUeFAzK",
        "colab": {
          "base_uri": "https://localhost:8080/",
          "height": 300
        },
        "outputId": "ea200904-5d56-4255-c396-b4c244517817"
      },
      "source": [
        "sns.barplot(x=\"lingua\", y=\"total\", data = dados)"
      ],
      "execution_count": null,
      "outputs": [
        {
          "output_type": "execute_result",
          "data": {
            "text/plain": [
              "<matplotlib.axes._subplots.AxesSubplot at 0x7f8b225ee2e8>"
            ]
          },
          "metadata": {
            "tags": []
          },
          "execution_count": 122
        },
        {
          "output_type": "display_data",
          "data": {
            "image/png": "[encoded data removed]",
            "text/plain": [
              "<Figure size 432x288 with 1 Axes>"
            ]
          },
          "metadata": {
            "tags": []
          }
        }
      ]
    },
    {
      "cell_type": "code",
      "metadata": {
        "id": "dTdeOcBtFz-_",
        "colab": {
          "base_uri": "https://localhost:8080/",
          "height": 666
        },
        "outputId": "67a5a938-7e6f-491d-bd84-d13dbfcb3c71"
      },
      "source": [
        "filmes_sem_lingua_inglesa = tmdb.query(\"original_language != 'en'\")\n",
        "filmes_sem_lingua_inglesa.head()"
      ],
      "execution_count": null,
      "outputs": [
        {
          "output_type": "execute_result",
          "data": {
            "text/html": [
              "<div>\n",
              "<style scoped>\n",
              "    .dataframe tbody tr th:only-of-type {\n",
              "        vertical-align: middle;\n",
              "    }\n",
              "\n",
              "    .dataframe tbody tr th {\n",
              "        vertical-align: top;\n",
              "    }\n",
              "\n",
              "    .dataframe thead th {\n",
              "        text-align: right;\n",
              "    }\n",
              "</style>\n",
              "<table border=\"1\" class=\"dataframe\">\n",
              "  <thead>\n",
              "    <tr style=\"text-align: right;\">\n",
              "      <th></th>\n",
              "      <th>budget</th>\n",
              "      <th>genres</th>\n",
              "      <th>homepage</th>\n",
              "      <th>id</th>\n",
              "      <th>keywords</th>\n",
              "      <th>original_language</th>\n",
              "      <th>original_title</th>\n",
              "      <th>overview</th>\n",
              "      <th>popularity</th>\n",
              "      <th>production_companies</th>\n",
              "      <th>production_countries</th>\n",
              "      <th>release_date</th>\n",
              "      <th>revenue</th>\n",
              "      <th>runtime</th>\n",
              "      <th>spoken_languages</th>\n",
              "      <th>status</th>\n",
              "      <th>tagline</th>\n",
              "      <th>title</th>\n",
              "      <th>vote_average</th>\n",
              "      <th>vote_count</th>\n",
              "    </tr>\n",
              "  </thead>\n",
              "  <tbody>\n",
              "    <tr>\n",
              "      <th>97</th>\n",
              "      <td>15000000</td>\n",
              "      <td>[{\"id\": 28, \"name\": \"Action\"}, {\"id\": 12, \"nam...</td>\n",
              "      <td>NaN</td>\n",
              "      <td>315011</td>\n",
              "      <td>[{\"id\": 1299, \"name\": \"monster\"}, {\"id\": 7671,...</td>\n",
              "      <td>ja</td>\n",
              "      <td>シン・ゴジラ</td>\n",
              "      <td>From the mind behind Evangelion comes a hit la...</td>\n",
              "      <td>9.476999</td>\n",
              "      <td>[{\"name\": \"Cine Bazar\", \"id\": 5896}, {\"name\": ...</td>\n",
              "      <td>[{\"iso_3166_1\": \"JP\", \"name\": \"Japan\"}]</td>\n",
              "      <td>2016-07-29</td>\n",
              "      <td>77000000</td>\n",
              "      <td>120.0</td>\n",
              "      <td>[{\"iso_639_1\": \"it\", \"name\": \"Italiano\"}, {\"is...</td>\n",
              "      <td>Released</td>\n",
              "      <td>A god incarnate. A city doomed.</td>\n",
              "      <td>Shin Godzilla</td>\n",
              "      <td>6.5</td>\n",
              "      <td>143</td>\n",
              "    </tr>\n",
              "    <tr>\n",
              "      <th>235</th>\n",
              "      <td>97250400</td>\n",
              "      <td>[{\"id\": 14, \"name\": \"Fantasy\"}, {\"id\": 12, \"na...</td>\n",
              "      <td>http://www.asterixauxjeuxolympiques.com/index.php</td>\n",
              "      <td>2395</td>\n",
              "      <td>[{\"id\": 271, \"name\": \"competition\"}, {\"id\": 12...</td>\n",
              "      <td>fr</td>\n",
              "      <td>Astérix aux Jeux Olympiques</td>\n",
              "      <td>Astérix and Obélix have to win the Olympic Gam...</td>\n",
              "      <td>20.344364</td>\n",
              "      <td>[{\"name\": \"Constantin Film\", \"id\": 47}, {\"name...</td>\n",
              "      <td>[{\"iso_3166_1\": \"BE\", \"name\": \"Belgium\"}, {\"is...</td>\n",
              "      <td>2008-01-13</td>\n",
              "      <td>132900000</td>\n",
              "      <td>116.0</td>\n",
              "      <td>[{\"iso_639_1\": \"fr\", \"name\": \"Fran\\u00e7ais\"},...</td>\n",
              "      <td>Released</td>\n",
              "      <td>NaN</td>\n",
              "      <td>Asterix at the Olympic Games</td>\n",
              "      <td>5.0</td>\n",
              "      <td>471</td>\n",
              "    </tr>\n",
              "    <tr>\n",
              "      <th>317</th>\n",
              "      <td>94000000</td>\n",
              "      <td>[{\"id\": 18, \"name\": \"Drama\"}, {\"id\": 36, \"name...</td>\n",
              "      <td>http://www.theflowersofwarmovie.com/</td>\n",
              "      <td>76758</td>\n",
              "      <td>[{\"id\": 173251, \"name\": \"forced prostitution\"}...</td>\n",
              "      <td>zh</td>\n",
              "      <td>金陵十三釵</td>\n",
              "      <td>A Westerner finds refuge with a group of women...</td>\n",
              "      <td>12.516546</td>\n",
              "      <td>[{\"name\": \"Beijing New Picture Film Co. Ltd.\",...</td>\n",
              "      <td>[{\"iso_3166_1\": \"CN\", \"name\": \"China\"}, {\"iso_...</td>\n",
              "      <td>2011-12-15</td>\n",
              "      <td>95311434</td>\n",
              "      <td>145.0</td>\n",
              "      <td>[{\"iso_639_1\": \"zh\", \"name\": \"\\u666e\\u901a\\u8b...</td>\n",
              "      <td>Released</td>\n",
              "      <td>NaN</td>\n",
              "      <td>The Flowers of War</td>\n",
              "      <td>7.1</td>\n",
              "      <td>187</td>\n",
              "    </tr>\n",
              "    <tr>\n",
              "      <th>474</th>\n",
              "      <td>0</td>\n",
              "      <td>[{\"id\": 9648, \"name\": \"Mystery\"}, {\"id\": 18, \"...</td>\n",
              "      <td>NaN</td>\n",
              "      <td>330770</td>\n",
              "      <td>[{\"id\": 428, \"name\": \"nurse\"}, {\"id\": 658, \"na...</td>\n",
              "      <td>fr</td>\n",
              "      <td>Évolution</td>\n",
              "      <td>11-year-old Nicolas lives with his mother in a...</td>\n",
              "      <td>3.300061</td>\n",
              "      <td>[{\"name\": \"Ex Nihilo\", \"id\": 3307}, {\"name\": \"...</td>\n",
              "      <td>[{\"iso_3166_1\": \"BE\", \"name\": \"Belgium\"}, {\"is...</td>\n",
              "      <td>2015-09-14</td>\n",
              "      <td>0</td>\n",
              "      <td>81.0</td>\n",
              "      <td>[{\"iso_639_1\": \"fr\", \"name\": \"Fran\\u00e7ais\"}]</td>\n",
              "      <td>Released</td>\n",
              "      <td>NaN</td>\n",
              "      <td>Evolution</td>\n",
              "      <td>6.4</td>\n",
              "      <td>47</td>\n",
              "    </tr>\n",
              "    <tr>\n",
              "      <th>492</th>\n",
              "      <td>8000000</td>\n",
              "      <td>[{\"id\": 35, \"name\": \"Comedy\"}, {\"id\": 16, \"nam...</td>\n",
              "      <td>NaN</td>\n",
              "      <td>293644</td>\n",
              "      <td>[{\"id\": 209714, \"name\": \"3d\"}]</td>\n",
              "      <td>es</td>\n",
              "      <td>Don Gato: El inicio de la pandilla</td>\n",
              "      <td>Top Cat has arrived to charm his way into your...</td>\n",
              "      <td>0.719996</td>\n",
              "      <td>[{\"name\": \"Anima Estudios\", \"id\": 9965}, {\"nam...</td>\n",
              "      <td>[{\"iso_3166_1\": \"IN\", \"name\": \"India\"}, {\"iso_...</td>\n",
              "      <td>2015-10-30</td>\n",
              "      <td>0</td>\n",
              "      <td>89.0</td>\n",
              "      <td>[]</td>\n",
              "      <td>Released</td>\n",
              "      <td>NaN</td>\n",
              "      <td>Top Cat Begins</td>\n",
              "      <td>5.3</td>\n",
              "      <td>9</td>\n",
              "    </tr>\n",
              "  </tbody>\n",
              "</table>\n",
              "</div>"
            ],
            "text/plain": [
              "       budget  ... vote_count\n",
              "97   15000000  ...        143\n",
              "235  97250400  ...        471\n",
              "317  94000000  ...        187\n",
              "474         0  ...         47\n",
              "492   8000000  ...          9\n",
              "\n",
              "[5 rows x 20 columns]"
            ]
          },
          "metadata": {
            "tags": []
          },
          "execution_count": 126
        }
      ]
    },
    {
      "cell_type": "code",
      "metadata": {
        "id": "JiW9YK9Z-Mvv"
      },
      "source": [
        "total_filmes_sem_lingua_inglesa = filmes_sem_lingua_inglesa.original_language.value_counts()"
      ],
      "execution_count": null,
      "outputs": []
    },
    {
      "cell_type": "code",
      "metadata": {
        "id": "QnZBSetU7o5s",
        "colab": {
          "base_uri": "https://localhost:8080/",
          "height": 406
        },
        "outputId": "6ea31394-738e-407b-c43c-947250a55541"
      },
      "source": [
        "sns.catplot(x=\"original_language\", kind=\"count\",\n",
        "            data= filmes_sem_lingua_inglesa, aspect = 2,\n",
        "            palette = \"GnBu_d\",\n",
        "            order = total_filmes_sem_lingua_inglesa.index)"
      ],
      "execution_count": null,
      "outputs": [
        {
          "output_type": "execute_result",
          "data": {
            "text/plain": [
              "<seaborn.axisgrid.FacetGrid at 0x7f8b22338748>"
            ]
          },
          "metadata": {
            "tags": []
          },
          "execution_count": 129
        },
        {
          "output_type": "display_data",
          "data": {
            "image/png": "[encoded data removed]",
            "text/plain": [
              "<Figure size 720x360 with 1 Axes>"
            ]
          },
          "metadata": {
            "tags": []
          }
        }
      ]
    },
    {
      "cell_type": "code",
      "metadata": {
        "id": "MPeoC5GT_6Jf",
        "colab": {
          "base_uri": "https://localhost:8080/",
          "height": 602
        },
        "outputId": "7d0385fc-b718-4052-8499-390f855aa932"
      },
      "source": [
        "# Load the example dataset for Anscombe's quartet\n",
        "df = sns.load_dataset(\"anscombe\")\n",
        "\n",
        "# Show the results of a linear regression within each dataset\n",
        "sns.lmplot(x=\"x\", y=\"y\", col=\"dataset\", hue=\"dataset\", data=df,\n",
        "           col_wrap=2, ci=None, palette=\"muted\", height=4,\n",
        "           scatter_kws={\"s\": 50, \"alpha\": 1})"
      ],
      "execution_count": null,
      "outputs": [
        {
          "output_type": "execute_result",
          "data": {
            "text/plain": [
              "<seaborn.axisgrid.FacetGrid at 0x7f8b22277630>"
            ]
          },
          "metadata": {
            "tags": []
          },
          "execution_count": 130
        },
        {
          "output_type": "display_data",
          "data": {
            "image/png": "[encoded data removed]",
            "text/plain": [
              "<Figure size 576x576 with 4 Axes>"
            ]
          },
          "metadata": {
            "tags": []
          }
        }
      ]
    },
    {
      "cell_type": "code",
      "metadata": {
        "id": "TjyiCwv1AbvT",
        "colab": {
          "base_uri": "https://localhost:8080/",
          "height": 34
        },
        "outputId": "93dfb66d-1480-4ca4-ea20-8fa76c157023"
      },
      "source": [
        "notas_toy_story = notas.query('filmeId==1')\n",
        "notas_jumanji = notas.query('filmeId==2')\n",
        "print(len(notas_toy_story), len(notas_jumanji))"
      ],
      "execution_count": null,
      "outputs": [
        {
          "output_type": "stream",
          "text": [
            "215 110\n"
          ],
          "name": "stdout"
        }
      ]
    },
    {
      "cell_type": "code",
      "metadata": {
        "id": "J_2KatxL7b8T",
        "colab": {
          "base_uri": "https://localhost:8080/",
          "height": 51
        },
        "outputId": "316f438d-41fc-437c-f4ed-d64a23d1740c"
      },
      "source": [
        "print(\"Nota média do Toy Story %.2f\" % notas_toy_story.nota.mean())\n",
        "print(\"Nota média do Jumanji %.2f\" % notas_jumanji.nota.mean())"
      ],
      "execution_count": null,
      "outputs": [
        {
          "output_type": "stream",
          "text": [
            "Nota média do Toy Story 3.92\n",
            "Nota média do Jumanji 3.43\n"
          ],
          "name": "stdout"
        }
      ]
    },
    {
      "cell_type": "code",
      "metadata": {
        "id": "Zbj0oKd-BIsL",
        "colab": {
          "base_uri": "https://localhost:8080/",
          "height": 51
        },
        "outputId": "cb833c43-41ab-48a2-9dce-f1d0f9e8bb2b"
      },
      "source": [
        "print(\"Nota mediana do Toy Story %.2f\" % notas_toy_story.nota.median())\n",
        "print(\"Nota mediana do Jumanji %.2f\" % notas_jumanji.nota.median())"
      ],
      "execution_count": null,
      "outputs": [
        {
          "output_type": "stream",
          "text": [
            "Nota mediana do Toy Story 4.00\n",
            "Nota mediana do Jumanji 3.50\n"
          ],
          "name": "stdout"
        }
      ]
    },
    {
      "cell_type": "code",
      "metadata": {
        "id": "h_39KnENBdsV",
        "colab": {
          "base_uri": "https://localhost:8080/",
          "height": 51
        },
        "outputId": "05c2f9c4-0bad-4d16-ffc1-b628e59fbea3"
      },
      "source": [
        "np.array([2.5] * 10)\n",
        "np.array([3.5] * 10)\n"
      ],
      "execution_count": null,
      "outputs": [
        {
          "output_type": "execute_result",
          "data": {
            "text/plain": [
              "array([2.5, 2.5, 2.5, 2.5, 2.5, 2.5, 2.5, 2.5, 2.5, 2.5, 3.5, 3.5, 3.5,\n",
              "       3.5, 3.5, 3.5, 3.5, 3.5, 3.5, 3.5])"
            ]
          },
          "metadata": {
            "tags": []
          },
          "execution_count": 140
        }
      ]
    },
    {
      "cell_type": "code",
      "metadata": {
        "id": "vKcEYHVuBuHn"
      },
      "source": [
        "filme1 = np.append(np.array([2.5] * 10), np.array([3.5] * 10))\n",
        "filme2 = np.append(np.array([5] * 10), np.array([1] * 10))"
      ],
      "execution_count": null,
      "outputs": []
    },
    {
      "cell_type": "code",
      "metadata": {
        "id": "qmogMwXaCBbn",
        "colab": {
          "base_uri": "https://localhost:8080/",
          "height": 34
        },
        "outputId": "7f07ce0b-3f66-4b5b-db0b-72bc6770c970"
      },
      "source": [
        "print(filme1.mean(), filme2.mean())"
      ],
      "execution_count": null,
      "outputs": [
        {
          "output_type": "stream",
          "text": [
            "3.0 3.0\n"
          ],
          "name": "stdout"
        }
      ]
    },
    {
      "cell_type": "code",
      "metadata": {
        "id": "vKcDRMWaCNCE",
        "colab": {
          "base_uri": "https://localhost:8080/",
          "height": 34
        },
        "outputId": "30296a07-b5bd-4e01-c6c8-f63fdb0ce531"
      },
      "source": [
        "print(np.median(filme1), np.median(filme2))"
      ],
      "execution_count": null,
      "outputs": [
        {
          "output_type": "stream",
          "text": [
            "3.0 3.0\n"
          ],
          "name": "stdout"
        }
      ]
    },
    {
      "cell_type": "code",
      "metadata": {
        "id": "PLf8bStkCZtx",
        "colab": {
          "base_uri": "https://localhost:8080/",
          "height": 286
        },
        "outputId": "b281768c-9436-4f5c-8dc5-326d62ce2117"
      },
      "source": [
        "sns.distplot(filme1)\n",
        "sns.distplot(filme2)"
      ],
      "execution_count": null,
      "outputs": [
        {
          "output_type": "execute_result",
          "data": {
            "text/plain": [
              "<matplotlib.axes._subplots.AxesSubplot at 0x7f8b222c15c0>"
            ]
          },
          "metadata": {
            "tags": []
          },
          "execution_count": 147
        },
        {
          "output_type": "display_data",
          "data": {
            "image/png": "[encoded data removed]",
            "text/plain": [
              "<Figure size 432x288 with 1 Axes>"
            ]
          },
          "metadata": {
            "tags": []
          }
        }
      ]
    },
    {
      "cell_type": "code",
      "metadata": {
        "id": "xP3dIsACCo8H",
        "colab": {
          "base_uri": "https://localhost:8080/",
          "height": 1000
        },
        "outputId": "5b1bced4-f011-4137-efd1-df0f0533be6d"
      },
      "source": [
        "plt.boxplot(notas_toy_story)\n",
        "plt.boxplot(notas_jumanji)"
      ],
      "execution_count": null,
      "outputs": [
        {
          "output_type": "execute_result",
          "data": {
            "text/plain": [
              "{'boxes': [<matplotlib.lines.Line2D at 0x7f8b20cb5f28>,\n",
              "  <matplotlib.lines.Line2D at 0x7f8b21a855c0>,\n",
              "  <matplotlib.lines.Line2D at 0x7f8b20c42630>,\n",
              "  <matplotlib.lines.Line2D at 0x7f8b20c4cbe0>,\n",
              "  <matplotlib.lines.Line2D at 0x7f8b20c57f28>,\n",
              "  <matplotlib.lines.Line2D at 0x7f8b20c6c780>,\n",
              "  <matplotlib.lines.Line2D at 0x7f8b20c79d30>,\n",
              "  <matplotlib.lines.Line2D at 0x7f8b20c0f320>,\n",
              "  <matplotlib.lines.Line2D at 0x7f8b20c198d0>,\n",
              "  <matplotlib.lines.Line2D at 0x7f8b20c25e80>,\n",
              "  <matplotlib.lines.Line2D at 0x7f8b20c3b470>,\n",
              "  <matplotlib.lines.Line2D at 0x7f8b20bc5a20>,\n",
              "  <matplotlib.lines.Line2D at 0x7f8b20bd1fd0>,\n",
              "  <matplotlib.lines.Line2D at 0x7f8b20be65c0>,\n",
              "  <matplotlib.lines.Line2D at 0x7f8b20bf1b70>,\n",
              "  <matplotlib.lines.Line2D at 0x7f8b20bfbeb8>,\n",
              "  <matplotlib.lines.Line2D at 0x7f8b20b92710>,\n",
              "  <matplotlib.lines.Line2D at 0x7f8b20b9fcc0>,\n",
              "  <matplotlib.lines.Line2D at 0x7f8b20bb52b0>,\n",
              "  <matplotlib.lines.Line2D at 0x7f8b20b40710>,\n",
              "  <matplotlib.lines.Line2D at 0x7f8b20b47cc0>,\n",
              "  <matplotlib.lines.Line2D at 0x7f8b20b602b0>,\n",
              "  <matplotlib.lines.Line2D at 0x7f8b20b6a860>,\n",
              "  <matplotlib.lines.Line2D at 0x7f8b20b77e10>,\n",
              "  <matplotlib.lines.Line2D at 0x7f8b20b0b400>,\n",
              "  <matplotlib.lines.Line2D at 0x7f8b20b199b0>,\n",
              "  <matplotlib.lines.Line2D at 0x7f8b20b22f60>,\n",
              "  <matplotlib.lines.Line2D at 0x7f8b20b38550>,\n",
              "  <matplotlib.lines.Line2D at 0x7f8b20ac2b00>,\n",
              "  <matplotlib.lines.Line2D at 0x7f8b20acee48>,\n",
              "  <matplotlib.lines.Line2D at 0x7f8b20ae66a0>,\n",
              "  <matplotlib.lines.Line2D at 0x7f8b20af1c50>,\n",
              "  <matplotlib.lines.Line2D at 0x7f8b20afaf98>,\n",
              "  <matplotlib.lines.Line2D at 0x7f8b20a907f0>,\n",
              "  <matplotlib.lines.Line2D at 0x7f8b20a9ada0>,\n",
              "  <matplotlib.lines.Line2D at 0x7f8b20aae390>,\n",
              "  <matplotlib.lines.Line2D at 0x7f8b20abc940>,\n",
              "  <matplotlib.lines.Line2D at 0x7f8b20a46ef0>,\n",
              "  <matplotlib.lines.Line2D at 0x7f8b20a5c4e0>,\n",
              "  <matplotlib.lines.Line2D at 0x7f8b20a68a90>,\n",
              "  <matplotlib.lines.Line2D at 0x7f8b20a72dd8>,\n",
              "  <matplotlib.lines.Line2D at 0x7f8b20a09630>,\n",
              "  <matplotlib.lines.Line2D at 0x7f8b20a14be0>,\n",
              "  <matplotlib.lines.Line2D at 0x7f8b20a1df28>,\n",
              "  <matplotlib.lines.Line2D at 0x7f8b20a32780>,\n",
              "  <matplotlib.lines.Line2D at 0x7f8b209bfd30>,\n",
              "  <matplotlib.lines.Line2D at 0x7f8b209d6320>,\n",
              "  <matplotlib.lines.Line2D at 0x7f8b209e08d0>,\n",
              "  <matplotlib.lines.Line2D at 0x7f8b209eae80>,\n",
              "  <matplotlib.lines.Line2D at 0x7f8b20980470>,\n",
              "  <matplotlib.lines.Line2D at 0x7f8b2098ba20>,\n",
              "  <matplotlib.lines.Line2D at 0x7f8b20997fd0>,\n",
              "  <matplotlib.lines.Line2D at 0x7f8b209ae5c0>,\n",
              "  <matplotlib.lines.Line2D at 0x7f8b209b7b70>,\n",
              "  <matplotlib.lines.Line2D at 0x7f8b20943eb8>,\n",
              "  <matplotlib.lines.Line2D at 0x7f8b20958710>,\n",
              "  <matplotlib.lines.Line2D at 0x7f8b20963cc0>,\n",
              "  <matplotlib.lines.Line2D at 0x7f8b2097b2b0>,\n",
              "  <matplotlib.lines.Line2D at 0x7f8b20906860>,\n",
              "  <matplotlib.lines.Line2D at 0x7f8b2090fe10>,\n",
              "  <matplotlib.lines.Line2D at 0x7f8b20927400>,\n",
              "  <matplotlib.lines.Line2D at 0x7f8b209329b0>,\n",
              "  <matplotlib.lines.Line2D at 0x7f8b208bdf60>,\n",
              "  <matplotlib.lines.Line2D at 0x7f8b208d2550>,\n",
              "  <matplotlib.lines.Line2D at 0x7f8b208deb00>,\n",
              "  <matplotlib.lines.Line2D at 0x7f8b208e8e48>,\n",
              "  <matplotlib.lines.Line2D at 0x7f8b208816a0>,\n",
              "  <matplotlib.lines.Line2D at 0x7f8b2088ac50>,\n",
              "  <matplotlib.lines.Line2D at 0x7f8b20894f98>,\n",
              "  <matplotlib.lines.Line2D at 0x7f8b208ab7f0>,\n",
              "  <matplotlib.lines.Line2D at 0x7f8b208b4da0>,\n",
              "  <matplotlib.lines.Line2D at 0x7f8b2084c390>,\n",
              "  <matplotlib.lines.Line2D at 0x7f8b20856940>,\n",
              "  <matplotlib.lines.Line2D at 0x7f8b20861ef0>,\n",
              "  <matplotlib.lines.Line2D at 0x7f8b208774e0>,\n",
              "  <matplotlib.lines.Line2D at 0x7f8b20803a90>,\n",
              "  <matplotlib.lines.Line2D at 0x7f8b2080bdd8>,\n",
              "  <matplotlib.lines.Line2D at 0x7f8b20823630>,\n",
              "  <matplotlib.lines.Line2D at 0x7f8b2082ebe0>,\n",
              "  <matplotlib.lines.Line2D at 0x7f8b20839f28>,\n",
              "  <matplotlib.lines.Line2D at 0x7f8b207ce780>,\n",
              "  <matplotlib.lines.Line2D at 0x7f8b207dad30>,\n",
              "  <matplotlib.lines.Line2D at 0x7f8b207f0320>,\n",
              "  <matplotlib.lines.Line2D at 0x7f8b207fb8d0>,\n",
              "  <matplotlib.lines.Line2D at 0x7f8b20785e80>,\n",
              "  <matplotlib.lines.Line2D at 0x7f8b2079a470>,\n",
              "  <matplotlib.lines.Line2D at 0x7f8b207a6a20>,\n",
              "  <matplotlib.lines.Line2D at 0x7f8b207b2fd0>,\n",
              "  <matplotlib.lines.Line2D at 0x7f8b207485c0>,\n",
              "  <matplotlib.lines.Line2D at 0x7f8b20752b70>,\n",
              "  <matplotlib.lines.Line2D at 0x7f8b2075eeb8>,\n",
              "  <matplotlib.lines.Line2D at 0x7f8b20773710>,\n",
              "  <matplotlib.lines.Line2D at 0x7f8b2077ccc0>,\n",
              "  <matplotlib.lines.Line2D at 0x7f8b207162b0>,\n",
              "  <matplotlib.lines.Line2D at 0x7f8b20720860>,\n",
              "  <matplotlib.lines.Line2D at 0x7f8b20729e10>,\n",
              "  <matplotlib.lines.Line2D at 0x7f8b206c1400>,\n",
              "  <matplotlib.lines.Line2D at 0x7f8b206ce9b0>,\n",
              "  <matplotlib.lines.Line2D at 0x7f8b206d7f60>,\n",
              "  <matplotlib.lines.Line2D at 0x7f8b206ee550>,\n",
              "  <matplotlib.lines.Line2D at 0x7f8b206f8b00>,\n",
              "  <matplotlib.lines.Line2D at 0x7f8b20682e48>,\n",
              "  <matplotlib.lines.Line2D at 0x7f8b2069b6a0>,\n",
              "  <matplotlib.lines.Line2D at 0x7f8b206a5c50>,\n",
              "  <matplotlib.lines.Line2D at 0x7f8b206aef98>,\n",
              "  <matplotlib.lines.Line2D at 0x7f8b206457f0>,\n",
              "  <matplotlib.lines.Line2D at 0x7f8b2064fda0>,\n",
              "  <matplotlib.lines.Line2D at 0x7f8b20667390>,\n",
              "  <matplotlib.lines.Line2D at 0x7f8b20672940>,\n",
              "  <matplotlib.lines.Line2D at 0x7f8b2067bef0>],\n",
              " 'caps': [<matplotlib.lines.Line2D at 0x7f8b20cb8940>,\n",
              "  <matplotlib.lines.Line2D at 0x7f8b20cb8c50>,\n",
              "  <matplotlib.lines.Line2D at 0x7f8b20ca4cc0>,\n",
              "  <matplotlib.lines.Line2D at 0x7f8b20c948d0>,\n",
              "  <matplotlib.lines.Line2D at 0x7f8b20c42f60>,\n",
              "  <matplotlib.lines.Line2D at 0x7f8b20c4c2b0>,\n",
              "  <matplotlib.lines.Line2D at 0x7f8b20c57550>,\n",
              "  <matplotlib.lines.Line2D at 0x7f8b20c57860>,\n",
              "  <matplotlib.lines.Line2D at 0x7f8b20c62b00>,\n",
              "  <matplotlib.lines.Line2D at 0x7f8b20c62e10>,\n",
              "  <matplotlib.lines.Line2D at 0x7f8b20c6ce80>,\n",
              "  <matplotlib.lines.Line2D at 0x7f8b20c79400>,\n",
              "  <matplotlib.lines.Line2D at 0x7f8b20c046a0>,\n",
              "  <matplotlib.lines.Line2D at 0x7f8b20c049b0>,\n",
              "  <matplotlib.lines.Line2D at 0x7f8b20c0fc50>,\n",
              "  <matplotlib.lines.Line2D at 0x7f8b20c0ff60>,\n",
              "  <matplotlib.lines.Line2D at 0x7f8b20c19fd0>,\n",
              "  <matplotlib.lines.Line2D at 0x7f8b20c25550>,\n",
              "  <matplotlib.lines.Line2D at 0x7f8b20c307f0>,\n",
              "  <matplotlib.lines.Line2D at 0x7f8b20c30b00>,\n",
              "  <matplotlib.lines.Line2D at 0x7f8b20c3bda0>,\n",
              "  <matplotlib.lines.Line2D at 0x7f8b20c3be80>,\n",
              "  <matplotlib.lines.Line2D at 0x7f8b20bd1390>,\n",
              "  <matplotlib.lines.Line2D at 0x7f8b20bd16a0>,\n",
              "  <matplotlib.lines.Line2D at 0x7f8b20bdc940>,\n",
              "  <matplotlib.lines.Line2D at 0x7f8b20bdcc50>,\n",
              "  <matplotlib.lines.Line2D at 0x7f8b20be6ef0>,\n",
              "  <matplotlib.lines.Line2D at 0x7f8b20be6fd0>,\n",
              "  <matplotlib.lines.Line2D at 0x7f8b20bfb4e0>,\n",
              "  <matplotlib.lines.Line2D at 0x7f8b20bfb7f0>,\n",
              "  <matplotlib.lines.Line2D at 0x7f8b20b89a90>,\n",
              "  <matplotlib.lines.Line2D at 0x7f8b20b89da0>,\n",
              "  <matplotlib.lines.Line2D at 0x7f8b20b92e10>,\n",
              "  <matplotlib.lines.Line2D at 0x7f8b20b9f390>,\n",
              "  <matplotlib.lines.Line2D at 0x7f8b20ba9630>,\n",
              "  <matplotlib.lines.Line2D at 0x7f8b20ba9940>,\n",
              "  <matplotlib.lines.Line2D at 0x7f8b20bb5be0>,\n",
              "  <matplotlib.lines.Line2D at 0x7f8b20bb5ef0>,\n",
              "  <matplotlib.lines.Line2D at 0x7f8b20b40e10>,\n",
              "  <matplotlib.lines.Line2D at 0x7f8b20b47390>,\n",
              "  <matplotlib.lines.Line2D at 0x7f8b20b56630>,\n",
              "  <matplotlib.lines.Line2D at 0x7f8b20b56940>,\n",
              "  <matplotlib.lines.Line2D at 0x7f8b20b60be0>,\n",
              "  <matplotlib.lines.Line2D at 0x7f8b20b60ef0>,\n",
              "  <matplotlib.lines.Line2D at 0x7f8b20b6af60>,\n",
              "  <matplotlib.lines.Line2D at 0x7f8b20b774e0>,\n",
              "  <matplotlib.lines.Line2D at 0x7f8b20b01780>,\n",
              "  <matplotlib.lines.Line2D at 0x7f8b20b01a90>,\n",
              "  <matplotlib.lines.Line2D at 0x7f8b20b0bd30>,\n",
              "  <matplotlib.lines.Line2D at 0x7f8b20b0be10>,\n",
              "  <matplotlib.lines.Line2D at 0x7f8b20b22320>,\n",
              "  <matplotlib.lines.Line2D at 0x7f8b20b22630>,\n",
              "  <matplotlib.lines.Line2D at 0x7f8b20b2c8d0>,\n",
              "  <matplotlib.lines.Line2D at 0x7f8b20b2cbe0>,\n",
              "  <matplotlib.lines.Line2D at 0x7f8b20b38e80>,\n",
              "  <matplotlib.lines.Line2D at 0x7f8b20b38f60>,\n",
              "  <matplotlib.lines.Line2D at 0x7f8b20ace470>,\n",
              "  <matplotlib.lines.Line2D at 0x7f8b20ace780>,\n",
              "  <matplotlib.lines.Line2D at 0x7f8b20ad8a20>,\n",
              "  <matplotlib.lines.Line2D at 0x7f8b20ad8d30>,\n",
              "  <matplotlib.lines.Line2D at 0x7f8b20ae6fd0>,\n",
              "  <matplotlib.lines.Line2D at 0x7f8b20af1320>,\n",
              "  <matplotlib.lines.Line2D at 0x7f8b20afa5c0>,\n",
              "  <matplotlib.lines.Line2D at 0x7f8b20afa8d0>,\n",
              "  <matplotlib.lines.Line2D at 0x7f8b20a84b70>,\n",
              "  <matplotlib.lines.Line2D at 0x7f8b20a84e80>,\n",
              "  <matplotlib.lines.Line2D at 0x7f8b20a90ef0>,\n",
              "  <matplotlib.lines.Line2D at 0x7f8b20a9a470>,\n",
              "  <matplotlib.lines.Line2D at 0x7f8b20aa4710>,\n",
              "  <matplotlib.lines.Line2D at 0x7f8b20aa4a20>,\n",
              "  <matplotlib.lines.Line2D at 0x7f8b20aaecc0>,\n",
              "  <matplotlib.lines.Line2D at 0x7f8b20aaefd0>,\n",
              "  <matplotlib.lines.Line2D at 0x7f8b20a462b0>,\n",
              "  <matplotlib.lines.Line2D at 0x7f8b20a465c0>,\n",
              "  <matplotlib.lines.Line2D at 0x7f8b20a52860>,\n",
              "  <matplotlib.lines.Line2D at 0x7f8b20a52b70>,\n",
              "  <matplotlib.lines.Line2D at 0x7f8b20a5ce10>,\n",
              "  <matplotlib.lines.Line2D at 0x7f8b20a5cef0>,\n",
              "  <matplotlib.lines.Line2D at 0x7f8b20a72400>,\n",
              "  <matplotlib.lines.Line2D at 0x7f8b20a72710>,\n",
              "  <matplotlib.lines.Line2D at 0x7f8b209fd9b0>,\n",
              "  <matplotlib.lines.Line2D at 0x7f8b209fdcc0>,\n",
              "  <matplotlib.lines.Line2D at 0x7f8b20a09f60>,\n",
              "  <matplotlib.lines.Line2D at 0x7f8b20a142b0>,\n",
              "  <matplotlib.lines.Line2D at 0x7f8b20a1d550>,\n",
              "  <matplotlib.lines.Line2D at 0x7f8b20a1d860>,\n",
              "  <matplotlib.lines.Line2D at 0x7f8b20a2ab00>,\n",
              "  <matplotlib.lines.Line2D at 0x7f8b20a2ae10>,\n",
              "  <matplotlib.lines.Line2D at 0x7f8b20a32e80>,\n",
              "  <matplotlib.lines.Line2D at 0x7f8b209bf400>,\n",
              "  <matplotlib.lines.Line2D at 0x7f8b209cc6a0>,\n",
              "  <matplotlib.lines.Line2D at 0x7f8b209cc9b0>,\n",
              "  <matplotlib.lines.Line2D at 0x7f8b209d6c50>,\n",
              "  <matplotlib.lines.Line2D at 0x7f8b209d6f60>,\n",
              "  <matplotlib.lines.Line2D at 0x7f8b209e0fd0>,\n",
              "  <matplotlib.lines.Line2D at 0x7f8b209ea550>,\n",
              "  <matplotlib.lines.Line2D at 0x7f8b209f67f0>,\n",
              "  <matplotlib.lines.Line2D at 0x7f8b209f6b00>,\n",
              "  <matplotlib.lines.Line2D at 0x7f8b20980da0>,\n",
              "  <matplotlib.lines.Line2D at 0x7f8b20980e80>,\n",
              "  <matplotlib.lines.Line2D at 0x7f8b20997390>,\n",
              "  <matplotlib.lines.Line2D at 0x7f8b209976a0>,\n",
              "  <matplotlib.lines.Line2D at 0x7f8b209a3940>,\n",
              "  <matplotlib.lines.Line2D at 0x7f8b209a3c50>,\n",
              "  <matplotlib.lines.Line2D at 0x7f8b209aeef0>,\n",
              "  <matplotlib.lines.Line2D at 0x7f8b209aefd0>,\n",
              "  <matplotlib.lines.Line2D at 0x7f8b209434e0>,\n",
              "  <matplotlib.lines.Line2D at 0x7f8b209437f0>,\n",
              "  <matplotlib.lines.Line2D at 0x7f8b2094da90>,\n",
              "  <matplotlib.lines.Line2D at 0x7f8b2094dda0>,\n",
              "  <matplotlib.lines.Line2D at 0x7f8b20958e10>,\n",
              "  <matplotlib.lines.Line2D at 0x7f8b20963390>,\n",
              "  <matplotlib.lines.Line2D at 0x7f8b20970630>,\n",
              "  <matplotlib.lines.Line2D at 0x7f8b20970940>,\n",
              "  <matplotlib.lines.Line2D at 0x7f8b2097bbe0>,\n",
              "  <matplotlib.lines.Line2D at 0x7f8b2097bef0>,\n",
              "  <matplotlib.lines.Line2D at 0x7f8b20906f60>,\n",
              "  <matplotlib.lines.Line2D at 0x7f8b2090f4e0>,\n",
              "  <matplotlib.lines.Line2D at 0x7f8b2091c780>,\n",
              "  <matplotlib.lines.Line2D at 0x7f8b2091ca90>,\n",
              "  <matplotlib.lines.Line2D at 0x7f8b20927d30>,\n",
              "  <matplotlib.lines.Line2D at 0x7f8b20927e10>,\n",
              "  <matplotlib.lines.Line2D at 0x7f8b208bd320>,\n",
              "  <matplotlib.lines.Line2D at 0x7f8b208bd630>,\n",
              "  <matplotlib.lines.Line2D at 0x7f8b208c78d0>,\n",
              "  <matplotlib.lines.Line2D at 0x7f8b208c7be0>,\n",
              "  <matplotlib.lines.Line2D at 0x7f8b208d2e80>,\n",
              "  <matplotlib.lines.Line2D at 0x7f8b208d2f60>,\n",
              "  <matplotlib.lines.Line2D at 0x7f8b208e8470>,\n",
              "  <matplotlib.lines.Line2D at 0x7f8b208e8780>,\n",
              "  <matplotlib.lines.Line2D at 0x7f8b208f2a20>,\n",
              "  <matplotlib.lines.Line2D at 0x7f8b208f2d30>,\n",
              "  <matplotlib.lines.Line2D at 0x7f8b20881fd0>,\n",
              "  <matplotlib.lines.Line2D at 0x7f8b2088a320>,\n",
              "  <matplotlib.lines.Line2D at 0x7f8b208945c0>,\n",
              "  <matplotlib.lines.Line2D at 0x7f8b208948d0>,\n",
              "  <matplotlib.lines.Line2D at 0x7f8b208a0b70>,\n",
              "  <matplotlib.lines.Line2D at 0x7f8b208a0e80>,\n",
              "  <matplotlib.lines.Line2D at 0x7f8b208abef0>,\n",
              "  <matplotlib.lines.Line2D at 0x7f8b208b4470>,\n",
              "  <matplotlib.lines.Line2D at 0x7f8b20840710>,\n",
              "  <matplotlib.lines.Line2D at 0x7f8b20840a20>,\n",
              "  <matplotlib.lines.Line2D at 0x7f8b2084ccc0>,\n",
              "  <matplotlib.lines.Line2D at 0x7f8b2084cfd0>,\n",
              "  <matplotlib.lines.Line2D at 0x7f8b208612b0>,\n",
              "  <matplotlib.lines.Line2D at 0x7f8b208615c0>,\n",
              "  <matplotlib.lines.Line2D at 0x7f8b2086b860>,\n",
              "  <matplotlib.lines.Line2D at 0x7f8b2086bb70>,\n",
              "  <matplotlib.lines.Line2D at 0x7f8b20877e10>,\n",
              "  <matplotlib.lines.Line2D at 0x7f8b20877ef0>,\n",
              "  <matplotlib.lines.Line2D at 0x7f8b2080b400>,\n",
              "  <matplotlib.lines.Line2D at 0x7f8b2080b710>,\n",
              "  <matplotlib.lines.Line2D at 0x7f8b208189b0>,\n",
              "  <matplotlib.lines.Line2D at 0x7f8b20818cc0>,\n",
              "  <matplotlib.lines.Line2D at 0x7f8b20823f60>,\n",
              "  <matplotlib.lines.Line2D at 0x7f8b2082e2b0>,\n",
              "  <matplotlib.lines.Line2D at 0x7f8b20839550>,\n",
              "  <matplotlib.lines.Line2D at 0x7f8b20839860>,\n",
              "  <matplotlib.lines.Line2D at 0x7f8b207c5b00>,\n",
              "  <matplotlib.lines.Line2D at 0x7f8b207c5e10>,\n",
              "  <matplotlib.lines.Line2D at 0x7f8b207cee80>,\n",
              "  <matplotlib.lines.Line2D at 0x7f8b207da400>,\n",
              "  <matplotlib.lines.Line2D at 0x7f8b207e66a0>,\n",
              "  <matplotlib.lines.Line2D at 0x7f8b207e69b0>,\n",
              "  <matplotlib.lines.Line2D at 0x7f8b207f0c50>,\n",
              "  <matplotlib.lines.Line2D at 0x7f8b207f0f60>,\n",
              "  <matplotlib.lines.Line2D at 0x7f8b207fbfd0>,\n",
              "  <matplotlib.lines.Line2D at 0x7f8b20785550>,\n",
              "  <matplotlib.lines.Line2D at 0x7f8b207927f0>,\n",
              "  <matplotlib.lines.Line2D at 0x7f8b20792b00>,\n",
              "  <matplotlib.lines.Line2D at 0x7f8b2079ada0>,\n",
              "  <matplotlib.lines.Line2D at 0x7f8b2079ae80>,\n",
              "  <matplotlib.lines.Line2D at 0x7f8b207b2390>,\n",
              "  <matplotlib.lines.Line2D at 0x7f8b207b26a0>,\n",
              "  <matplotlib.lines.Line2D at 0x7f8b2073e940>,\n",
              "  <matplotlib.lines.Line2D at 0x7f8b2073ec50>,\n",
              "  <matplotlib.lines.Line2D at 0x7f8b20748ef0>,\n",
              "  <matplotlib.lines.Line2D at 0x7f8b20748fd0>,\n",
              "  <matplotlib.lines.Line2D at 0x7f8b2075e4e0>,\n",
              "  <matplotlib.lines.Line2D at 0x7f8b2075e7f0>,\n",
              "  <matplotlib.lines.Line2D at 0x7f8b20768a90>,\n",
              "  <matplotlib.lines.Line2D at 0x7f8b20768da0>,\n",
              "  <matplotlib.lines.Line2D at 0x7f8b20773e10>,\n",
              "  <matplotlib.lines.Line2D at 0x7f8b2077c390>,\n",
              "  <matplotlib.lines.Line2D at 0x7f8b2070a630>,\n",
              "  <matplotlib.lines.Line2D at 0x7f8b2070a940>,\n",
              "  <matplotlib.lines.Line2D at 0x7f8b20716be0>,\n",
              "  <matplotlib.lines.Line2D at 0x7f8b20716ef0>,\n",
              "  <matplotlib.lines.Line2D at 0x7f8b20720f60>,\n",
              "  <matplotlib.lines.Line2D at 0x7f8b207294e0>,\n",
              "  <matplotlib.lines.Line2D at 0x7f8b20737780>,\n",
              "  <matplotlib.lines.Line2D at 0x7f8b20737a90>,\n",
              "  <matplotlib.lines.Line2D at 0x7f8b206c1d30>,\n",
              "  <matplotlib.lines.Line2D at 0x7f8b206c1e10>,\n",
              "  <matplotlib.lines.Line2D at 0x7f8b206d7320>,\n",
              "  <matplotlib.lines.Line2D at 0x7f8b206d7630>,\n",
              "  <matplotlib.lines.Line2D at 0x7f8b206e18d0>,\n",
              "  <matplotlib.lines.Line2D at 0x7f8b206e1be0>,\n",
              "  <matplotlib.lines.Line2D at 0x7f8b206eee80>,\n",
              "  <matplotlib.lines.Line2D at 0x7f8b206eef60>,\n",
              "  <matplotlib.lines.Line2D at 0x7f8b20682470>,\n",
              "  <matplotlib.lines.Line2D at 0x7f8b20682780>,\n",
              "  <matplotlib.lines.Line2D at 0x7f8b2068da20>,\n",
              "  <matplotlib.lines.Line2D at 0x7f8b2068dd30>,\n",
              "  <matplotlib.lines.Line2D at 0x7f8b2069bfd0>,\n",
              "  <matplotlib.lines.Line2D at 0x7f8b206a5320>,\n",
              "  <matplotlib.lines.Line2D at 0x7f8b206ae5c0>,\n",
              "  <matplotlib.lines.Line2D at 0x7f8b206ae8d0>,\n",
              "  <matplotlib.lines.Line2D at 0x7f8b206b9b70>,\n",
              "  <matplotlib.lines.Line2D at 0x7f8b206b9e80>,\n",
              "  <matplotlib.lines.Line2D at 0x7f8b20645ef0>,\n",
              "  <matplotlib.lines.Line2D at 0x7f8b2064f470>,\n",
              "  <matplotlib.lines.Line2D at 0x7f8b2065a710>,\n",
              "  <matplotlib.lines.Line2D at 0x7f8b2065aa20>,\n",
              "  <matplotlib.lines.Line2D at 0x7f8b20667cc0>,\n",
              "  <matplotlib.lines.Line2D at 0x7f8b20667fd0>,\n",
              "  <matplotlib.lines.Line2D at 0x7f8b2067b2b0>,\n",
              "  <matplotlib.lines.Line2D at 0x7f8b2067b5c0>,\n",
              "  <matplotlib.lines.Line2D at 0x7f8b20608860>,\n",
              "  <matplotlib.lines.Line2D at 0x7f8b20608b70>],\n",
              " 'fliers': [<matplotlib.lines.Line2D at 0x7f8b21a852b0>,\n",
              "  <matplotlib.lines.Line2D at 0x7f8b20c42320>,\n",
              "  <matplotlib.lines.Line2D at 0x7f8b20c4c8d0>,\n",
              "  <matplotlib.lines.Line2D at 0x7f8b20c57e80>,\n",
              "  <matplotlib.lines.Line2D at 0x7f8b20c6c470>,\n",
              "  <matplotlib.lines.Line2D at 0x7f8b20c79a20>,\n",
              "  <matplotlib.lines.Line2D at 0x7f8b20c04fd0>,\n",
              "  <matplotlib.lines.Line2D at 0x7f8b20c195c0>,\n",
              "  <matplotlib.lines.Line2D at 0x7f8b20c25b70>,\n",
              "  <matplotlib.lines.Line2D at 0x7f8b20c30ef0>,\n",
              "  <matplotlib.lines.Line2D at 0x7f8b20bc5710>,\n",
              "  <matplotlib.lines.Line2D at 0x7f8b20bd1cc0>,\n",
              "  <matplotlib.lines.Line2D at 0x7f8b20be62b0>,\n",
              "  <matplotlib.lines.Line2D at 0x7f8b20bf1860>,\n",
              "  <matplotlib.lines.Line2D at 0x7f8b20bfbe10>,\n",
              "  <matplotlib.lines.Line2D at 0x7f8b20b92400>,\n",
              "  <matplotlib.lines.Line2D at 0x7f8b20b9f9b0>,\n",
              "  <matplotlib.lines.Line2D at 0x7f8b20ba9f60>,\n",
              "  <matplotlib.lines.Line2D at 0x7f8b20ca4860>,\n",
              "  <matplotlib.lines.Line2D at 0x7f8b20b479b0>,\n",
              "  <matplotlib.lines.Line2D at 0x7f8b20b56f60>,\n",
              "  <matplotlib.lines.Line2D at 0x7f8b20b6a550>,\n",
              "  <matplotlib.lines.Line2D at 0x7f8b20b77b00>,\n",
              "  <matplotlib.lines.Line2D at 0x7f8b20b01e80>,\n",
              "  <matplotlib.lines.Line2D at 0x7f8b20b196a0>,\n",
              "  <matplotlib.lines.Line2D at 0x7f8b20b22c50>,\n",
              "  <matplotlib.lines.Line2D at 0x7f8b20b2cfd0>,\n",
              "  <matplotlib.lines.Line2D at 0x7f8b20ac27f0>,\n",
              "  <matplotlib.lines.Line2D at 0x7f8b20aceda0>,\n",
              "  <matplotlib.lines.Line2D at 0x7f8b20ae6390>,\n",
              "  <matplotlib.lines.Line2D at 0x7f8b20af1940>,\n",
              "  <matplotlib.lines.Line2D at 0x7f8b20afaef0>,\n",
              "  <matplotlib.lines.Line2D at 0x7f8b20a904e0>,\n",
              "  <matplotlib.lines.Line2D at 0x7f8b20a9aa90>,\n",
              "  <matplotlib.lines.Line2D at 0x7f8b20aa4e10>,\n",
              "  <matplotlib.lines.Line2D at 0x7f8b20abc630>,\n",
              "  <matplotlib.lines.Line2D at 0x7f8b20a46be0>,\n",
              "  <matplotlib.lines.Line2D at 0x7f8b20a52f60>,\n",
              "  <matplotlib.lines.Line2D at 0x7f8b20a68780>,\n",
              "  <matplotlib.lines.Line2D at 0x7f8b20a72d30>,\n",
              "  <matplotlib.lines.Line2D at 0x7f8b20a09320>,\n",
              "  <matplotlib.lines.Line2D at 0x7f8b20a148d0>,\n",
              "  <matplotlib.lines.Line2D at 0x7f8b20a1de80>,\n",
              "  <matplotlib.lines.Line2D at 0x7f8b20a32470>,\n",
              "  <matplotlib.lines.Line2D at 0x7f8b209bfa20>,\n",
              "  <matplotlib.lines.Line2D at 0x7f8b209ccfd0>,\n",
              "  <matplotlib.lines.Line2D at 0x7f8b209e05c0>,\n",
              "  <matplotlib.lines.Line2D at 0x7f8b209eab70>,\n",
              "  <matplotlib.lines.Line2D at 0x7f8b209f6ef0>,\n",
              "  <matplotlib.lines.Line2D at 0x7f8b2098b710>,\n",
              "  <matplotlib.lines.Line2D at 0x7f8b20997cc0>,\n",
              "  <matplotlib.lines.Line2D at 0x7f8b209ae2b0>,\n",
              "  <matplotlib.lines.Line2D at 0x7f8b209b7860>,\n",
              "  <matplotlib.lines.Line2D at 0x7f8b20943e10>,\n",
              "  <matplotlib.lines.Line2D at 0x7f8b20958400>,\n",
              "  <matplotlib.lines.Line2D at 0x7f8b209639b0>,\n",
              "  <matplotlib.lines.Line2D at 0x7f8b20970f60>,\n",
              "  <matplotlib.lines.Line2D at 0x7f8b20906550>,\n",
              "  <matplotlib.lines.Line2D at 0x7f8b2090fb00>,\n",
              "  <matplotlib.lines.Line2D at 0x7f8b2091ce80>,\n",
              "  <matplotlib.lines.Line2D at 0x7f8b209326a0>,\n",
              "  <matplotlib.lines.Line2D at 0x7f8b208bdc50>,\n",
              "  <matplotlib.lines.Line2D at 0x7f8b208c7fd0>,\n",
              "  <matplotlib.lines.Line2D at 0x7f8b208de7f0>,\n",
              "  <matplotlib.lines.Line2D at 0x7f8b208e8da0>,\n",
              "  <matplotlib.lines.Line2D at 0x7f8b20881390>,\n",
              "  <matplotlib.lines.Line2D at 0x7f8b2088a940>,\n",
              "  <matplotlib.lines.Line2D at 0x7f8b20894ef0>,\n",
              "  <matplotlib.lines.Line2D at 0x7f8b208ab4e0>,\n",
              "  <matplotlib.lines.Line2D at 0x7f8b208b4a90>,\n",
              "  <matplotlib.lines.Line2D at 0x7f8b20840e10>,\n",
              "  <matplotlib.lines.Line2D at 0x7f8b20856630>,\n",
              "  <matplotlib.lines.Line2D at 0x7f8b20861be0>,\n",
              "  <matplotlib.lines.Line2D at 0x7f8b2086bf60>,\n",
              "  <matplotlib.lines.Line2D at 0x7f8b20803780>,\n",
              "  <matplotlib.lines.Line2D at 0x7f8b2080bd30>,\n",
              "  <matplotlib.lines.Line2D at 0x7f8b20823320>,\n",
              "  <matplotlib.lines.Line2D at 0x7f8b2082e8d0>,\n",
              "  <matplotlib.lines.Line2D at 0x7f8b20839e80>,\n",
              "  <matplotlib.lines.Line2D at 0x7f8b207ce470>,\n",
              "  <matplotlib.lines.Line2D at 0x7f8b207daa20>,\n",
              "  <matplotlib.lines.Line2D at 0x7f8b207e6fd0>,\n",
              "  <matplotlib.lines.Line2D at 0x7f8b207fb5c0>,\n",
              "  <matplotlib.lines.Line2D at 0x7f8b20785b70>,\n",
              "  <matplotlib.lines.Line2D at 0x7f8b20792ef0>,\n",
              "  <matplotlib.lines.Line2D at 0x7f8b207a6710>,\n",
              "  <matplotlib.lines.Line2D at 0x7f8b207b2cc0>,\n",
              "  <matplotlib.lines.Line2D at 0x7f8b207482b0>,\n",
              "  <matplotlib.lines.Line2D at 0x7f8b20752860>,\n",
              "  <matplotlib.lines.Line2D at 0x7f8b2075ee10>,\n",
              "  <matplotlib.lines.Line2D at 0x7f8b20773400>,\n",
              "  <matplotlib.lines.Line2D at 0x7f8b2077c9b0>,\n",
              "  <matplotlib.lines.Line2D at 0x7f8b2070af60>,\n",
              "  <matplotlib.lines.Line2D at 0x7f8b20720550>,\n",
              "  <matplotlib.lines.Line2D at 0x7f8b20729b00>,\n",
              "  <matplotlib.lines.Line2D at 0x7f8b20737e80>,\n",
              "  <matplotlib.lines.Line2D at 0x7f8b206ce6a0>,\n",
              "  <matplotlib.lines.Line2D at 0x7f8b206d7c50>,\n",
              "  <matplotlib.lines.Line2D at 0x7f8b206e1fd0>,\n",
              "  <matplotlib.lines.Line2D at 0x7f8b206f87f0>,\n",
              "  <matplotlib.lines.Line2D at 0x7f8b20682da0>,\n",
              "  <matplotlib.lines.Line2D at 0x7f8b2069b390>,\n",
              "  <matplotlib.lines.Line2D at 0x7f8b206a5940>,\n",
              "  <matplotlib.lines.Line2D at 0x7f8b206aeef0>,\n",
              "  <matplotlib.lines.Line2D at 0x7f8b206454e0>,\n",
              "  <matplotlib.lines.Line2D at 0x7f8b2064fa90>,\n",
              "  <matplotlib.lines.Line2D at 0x7f8b2065ae10>,\n",
              "  <matplotlib.lines.Line2D at 0x7f8b20672630>,\n",
              "  <matplotlib.lines.Line2D at 0x7f8b2067bbe0>,\n",
              "  <matplotlib.lines.Line2D at 0x7f8b20608f60>],\n",
              " 'means': [],\n",
              " 'medians': [<matplotlib.lines.Line2D at 0x7f8b20cb8f60>,\n",
              "  <matplotlib.lines.Line2D at 0x7f8b21a85fd0>,\n",
              "  <matplotlib.lines.Line2D at 0x7f8b20c4c5c0>,\n",
              "  <matplotlib.lines.Line2D at 0x7f8b20c57b70>,\n",
              "  <matplotlib.lines.Line2D at 0x7f8b20c62ef0>,\n",
              "  <matplotlib.lines.Line2D at 0x7f8b20c79710>,\n",
              "  <matplotlib.lines.Line2D at 0x7f8b20c04cc0>,\n",
              "  <matplotlib.lines.Line2D at 0x7f8b20c192b0>,\n",
              "  <matplotlib.lines.Line2D at 0x7f8b20c25860>,\n",
              "  <matplotlib.lines.Line2D at 0x7f8b20c30e10>,\n",
              "  <matplotlib.lines.Line2D at 0x7f8b20bc5400>,\n",
              "  <matplotlib.lines.Line2D at 0x7f8b20bd19b0>,\n",
              "  <matplotlib.lines.Line2D at 0x7f8b20bdcf60>,\n",
              "  <matplotlib.lines.Line2D at 0x7f8b20bf1550>,\n",
              "  <matplotlib.lines.Line2D at 0x7f8b20bfbb00>,\n",
              "  <matplotlib.lines.Line2D at 0x7f8b20b89e80>,\n",
              "  <matplotlib.lines.Line2D at 0x7f8b20b9f6a0>,\n",
              "  <matplotlib.lines.Line2D at 0x7f8b20ba9c50>,\n",
              "  <matplotlib.lines.Line2D at 0x7f8b20bb5fd0>,\n",
              "  <matplotlib.lines.Line2D at 0x7f8b20b476a0>,\n",
              "  <matplotlib.lines.Line2D at 0x7f8b20b56c50>,\n",
              "  <matplotlib.lines.Line2D at 0x7f8b20b60fd0>,\n",
              "  <matplotlib.lines.Line2D at 0x7f8b20b777f0>,\n",
              "  <matplotlib.lines.Line2D at 0x7f8b20b01da0>,\n",
              "  <matplotlib.lines.Line2D at 0x7f8b20b19390>,\n",
              "  <matplotlib.lines.Line2D at 0x7f8b20b22940>,\n",
              "  <matplotlib.lines.Line2D at 0x7f8b20b2cef0>,\n",
              "  <matplotlib.lines.Line2D at 0x7f8b20ac24e0>,\n",
              "  <matplotlib.lines.Line2D at 0x7f8b20acea90>,\n",
              "  <matplotlib.lines.Line2D at 0x7f8b20ad8e10>,\n",
              "  <matplotlib.lines.Line2D at 0x7f8b20af1630>,\n",
              "  <matplotlib.lines.Line2D at 0x7f8b20afabe0>,\n",
              "  <matplotlib.lines.Line2D at 0x7f8b20a84f60>,\n",
              "  <matplotlib.lines.Line2D at 0x7f8b20a9a780>,\n",
              "  <matplotlib.lines.Line2D at 0x7f8b20aa4d30>,\n",
              "  <matplotlib.lines.Line2D at 0x7f8b20abc320>,\n",
              "  <matplotlib.lines.Line2D at 0x7f8b20a468d0>,\n",
              "  <matplotlib.lines.Line2D at 0x7f8b20a52e80>,\n",
              "  <matplotlib.lines.Line2D at 0x7f8b20a68470>,\n",
              "  <matplotlib.lines.Line2D at 0x7f8b20a72a20>,\n",
              "  <matplotlib.lines.Line2D at 0x7f8b209fdfd0>,\n",
              "  <matplotlib.lines.Line2D at 0x7f8b20a145c0>,\n",
              "  <matplotlib.lines.Line2D at 0x7f8b20a1db70>,\n",
              "  <matplotlib.lines.Line2D at 0x7f8b20a2aef0>,\n",
              "  <matplotlib.lines.Line2D at 0x7f8b209bf710>,\n",
              "  <matplotlib.lines.Line2D at 0x7f8b209cccc0>,\n",
              "  <matplotlib.lines.Line2D at 0x7f8b209e02b0>,\n",
              "  <matplotlib.lines.Line2D at 0x7f8b209ea860>,\n",
              "  <matplotlib.lines.Line2D at 0x7f8b209f6e10>,\n",
              "  <matplotlib.lines.Line2D at 0x7f8b2098b400>,\n",
              "  <matplotlib.lines.Line2D at 0x7f8b209979b0>,\n",
              "  <matplotlib.lines.Line2D at 0x7f8b209a3f60>,\n",
              "  <matplotlib.lines.Line2D at 0x7f8b209b7550>,\n",
              "  <matplotlib.lines.Line2D at 0x7f8b20943b00>,\n",
              "  <matplotlib.lines.Line2D at 0x7f8b2094de80>,\n",
              "  <matplotlib.lines.Line2D at 0x7f8b209636a0>,\n",
              "  <matplotlib.lines.Line2D at 0x7f8b20970c50>,\n",
              "  <matplotlib.lines.Line2D at 0x7f8b2097bfd0>,\n",
              "  <matplotlib.lines.Line2D at 0x7f8b2090f7f0>,\n",
              "  <matplotlib.lines.Line2D at 0x7f8b2091cda0>,\n",
              "  <matplotlib.lines.Line2D at 0x7f8b20932390>,\n",
              "  <matplotlib.lines.Line2D at 0x7f8b208bd940>,\n",
              "  <matplotlib.lines.Line2D at 0x7f8b208c7ef0>,\n",
              "  <matplotlib.lines.Line2D at 0x7f8b208de4e0>,\n",
              "  <matplotlib.lines.Line2D at 0x7f8b208e8a90>,\n",
              "  <matplotlib.lines.Line2D at 0x7f8b208f2e10>,\n",
              "  <matplotlib.lines.Line2D at 0x7f8b2088a630>,\n",
              "  <matplotlib.lines.Line2D at 0x7f8b20894be0>,\n",
              "  <matplotlib.lines.Line2D at 0x7f8b208a0f60>,\n",
              "  <matplotlib.lines.Line2D at 0x7f8b208b4780>,\n",
              "  <matplotlib.lines.Line2D at 0x7f8b20840d30>,\n",
              "  <matplotlib.lines.Line2D at 0x7f8b20856320>,\n",
              "  <matplotlib.lines.Line2D at 0x7f8b208618d0>,\n",
              "  <matplotlib.lines.Line2D at 0x7f8b2086be80>,\n",
              "  <matplotlib.lines.Line2D at 0x7f8b20803470>,\n",
              "  <matplotlib.lines.Line2D at 0x7f8b2080ba20>,\n",
              "  <matplotlib.lines.Line2D at 0x7f8b20818fd0>,\n",
              "  <matplotlib.lines.Line2D at 0x7f8b2082e5c0>,\n",
              "  <matplotlib.lines.Line2D at 0x7f8b20839b70>,\n",
              "  <matplotlib.lines.Line2D at 0x7f8b207c5ef0>,\n",
              "  <matplotlib.lines.Line2D at 0x7f8b207da710>,\n",
              "  <matplotlib.lines.Line2D at 0x7f8b207e6cc0>,\n",
              "  <matplotlib.lines.Line2D at 0x7f8b207fb2b0>,\n",
              "  <matplotlib.lines.Line2D at 0x7f8b20785860>,\n",
              "  <matplotlib.lines.Line2D at 0x7f8b20792e10>,\n",
              "  <matplotlib.lines.Line2D at 0x7f8b207a6400>,\n",
              "  <matplotlib.lines.Line2D at 0x7f8b207b29b0>,\n",
              "  <matplotlib.lines.Line2D at 0x7f8b2073ef60>,\n",
              "  <matplotlib.lines.Line2D at 0x7f8b20752550>,\n",
              "  <matplotlib.lines.Line2D at 0x7f8b2075eb00>,\n",
              "  <matplotlib.lines.Line2D at 0x7f8b20768e80>,\n",
              "  <matplotlib.lines.Line2D at 0x7f8b2077c6a0>,\n",
              "  <matplotlib.lines.Line2D at 0x7f8b2070ac50>,\n",
              "  <matplotlib.lines.Line2D at 0x7f8b20716fd0>,\n",
              "  <matplotlib.lines.Line2D at 0x7f8b207297f0>,\n",
              "  <matplotlib.lines.Line2D at 0x7f8b20737da0>,\n",
              "  <matplotlib.lines.Line2D at 0x7f8b206ce390>,\n",
              "  <matplotlib.lines.Line2D at 0x7f8b206d7940>,\n",
              "  <matplotlib.lines.Line2D at 0x7f8b206e1ef0>,\n",
              "  <matplotlib.lines.Line2D at 0x7f8b206f84e0>,\n",
              "  <matplotlib.lines.Line2D at 0x7f8b20682a90>,\n",
              "  <matplotlib.lines.Line2D at 0x7f8b2068de10>,\n",
              "  <matplotlib.lines.Line2D at 0x7f8b206a5630>,\n",
              "  <matplotlib.lines.Line2D at 0x7f8b206aebe0>,\n",
              "  <matplotlib.lines.Line2D at 0x7f8b206b9f60>,\n",
              "  <matplotlib.lines.Line2D at 0x7f8b2064f780>,\n",
              "  <matplotlib.lines.Line2D at 0x7f8b2065ad30>,\n",
              "  <matplotlib.lines.Line2D at 0x7f8b20672320>,\n",
              "  <matplotlib.lines.Line2D at 0x7f8b2067b8d0>,\n",
              "  <matplotlib.lines.Line2D at 0x7f8b20608e80>],\n",
              " 'whiskers': [<matplotlib.lines.Line2D at 0x7f8b20cb82e8>,\n",
              "  <matplotlib.lines.Line2D at 0x7f8b20cb8630>,\n",
              "  <matplotlib.lines.Line2D at 0x7f8b21a858d0>,\n",
              "  <matplotlib.lines.Line2D at 0x7f8b20cae208>,\n",
              "  <matplotlib.lines.Line2D at 0x7f8b20c42940>,\n",
              "  <matplotlib.lines.Line2D at 0x7f8b20c42c50>,\n",
              "  <matplotlib.lines.Line2D at 0x7f8b20c4cef0>,\n",
              "  <matplotlib.lines.Line2D at 0x7f8b20c4cfd0>,\n",
              "  <matplotlib.lines.Line2D at 0x7f8b20c624e0>,\n",
              "  <matplotlib.lines.Line2D at 0x7f8b20c627f0>,\n",
              "  <matplotlib.lines.Line2D at 0x7f8b20c6ca90>,\n",
              "  <matplotlib.lines.Line2D at 0x7f8b20c6cda0>,\n",
              "  <matplotlib.lines.Line2D at 0x7f8b20c79e10>,\n",
              "  <matplotlib.lines.Line2D at 0x7f8b20c04390>,\n",
              "  <matplotlib.lines.Line2D at 0x7f8b20c0f630>,\n",
              "  <matplotlib.lines.Line2D at 0x7f8b20c0f940>,\n",
              "  <matplotlib.lines.Line2D at 0x7f8b20c19be0>,\n",
              "  <matplotlib.lines.Line2D at 0x7f8b20c19ef0>,\n",
              "  <matplotlib.lines.Line2D at 0x7f8b20c25f60>,\n",
              "  <matplotlib.lines.Line2D at 0x7f8b20c304e0>,\n",
              "  <matplotlib.lines.Line2D at 0x7f8b20c3b780>,\n",
              "  <matplotlib.lines.Line2D at 0x7f8b20c3ba90>,\n",
              "  <matplotlib.lines.Line2D at 0x7f8b20bc5d30>,\n",
              "  <matplotlib.lines.Line2D at 0x7f8b20bc5e10>,\n",
              "  <matplotlib.lines.Line2D at 0x7f8b20bdc320>,\n",
              "  <matplotlib.lines.Line2D at 0x7f8b20bdc630>,\n",
              "  <matplotlib.lines.Line2D at 0x7f8b20be68d0>,\n",
              "  <matplotlib.lines.Line2D at 0x7f8b20be6be0>,\n",
              "  <matplotlib.lines.Line2D at 0x7f8b20bf1e80>,\n",
              "  <matplotlib.lines.Line2D at 0x7f8b20bf1f60>,\n",
              "  <matplotlib.lines.Line2D at 0x7f8b20b89470>,\n",
              "  <matplotlib.lines.Line2D at 0x7f8b20b89780>,\n",
              "  <matplotlib.lines.Line2D at 0x7f8b20b92a20>,\n",
              "  <matplotlib.lines.Line2D at 0x7f8b20b92d30>,\n",
              "  <matplotlib.lines.Line2D at 0x7f8b20b9ffd0>,\n",
              "  <matplotlib.lines.Line2D at 0x7f8b20ba9320>,\n",
              "  <matplotlib.lines.Line2D at 0x7f8b20bb55c0>,\n",
              "  <matplotlib.lines.Line2D at 0x7f8b20bb58d0>,\n",
              "  <matplotlib.lines.Line2D at 0x7f8b20b40a20>,\n",
              "  <matplotlib.lines.Line2D at 0x7f8b20b40d30>,\n",
              "  <matplotlib.lines.Line2D at 0x7f8b20b47fd0>,\n",
              "  <matplotlib.lines.Line2D at 0x7f8b20b56320>,\n",
              "  <matplotlib.lines.Line2D at 0x7f8b20b605c0>,\n",
              "  <matplotlib.lines.Line2D at 0x7f8b20b608d0>,\n",
              "  <matplotlib.lines.Line2D at 0x7f8b20b6ab70>,\n",
              "  <matplotlib.lines.Line2D at 0x7f8b20b6ae80>,\n",
              "  <matplotlib.lines.Line2D at 0x7f8b20b77ef0>,\n",
              "  <matplotlib.lines.Line2D at 0x7f8b20b01470>,\n",
              "  <matplotlib.lines.Line2D at 0x7f8b20b0b710>,\n",
              "  <matplotlib.lines.Line2D at 0x7f8b20b0ba20>,\n",
              "  <matplotlib.lines.Line2D at 0x7f8b20b19cc0>,\n",
              "  <matplotlib.lines.Line2D at 0x7f8b20b19fd0>,\n",
              "  <matplotlib.lines.Line2D at 0x7f8b20b2c2b0>,\n",
              "  <matplotlib.lines.Line2D at 0x7f8b20b2c5c0>,\n",
              "  <matplotlib.lines.Line2D at 0x7f8b20b38860>,\n",
              "  <matplotlib.lines.Line2D at 0x7f8b20b38b70>,\n",
              "  <matplotlib.lines.Line2D at 0x7f8b20ac2e10>,\n",
              "  <matplotlib.lines.Line2D at 0x7f8b20ac2ef0>,\n",
              "  <matplotlib.lines.Line2D at 0x7f8b20ad8400>,\n",
              "  <matplotlib.lines.Line2D at 0x7f8b20ad8710>,\n",
              "  <matplotlib.lines.Line2D at 0x7f8b20ae69b0>,\n",
              "  <matplotlib.lines.Line2D at 0x7f8b20ae6cc0>,\n",
              "  <matplotlib.lines.Line2D at 0x7f8b20af1f60>,\n",
              "  <matplotlib.lines.Line2D at 0x7f8b20afa2b0>,\n",
              "  <matplotlib.lines.Line2D at 0x7f8b20a84550>,\n",
              "  <matplotlib.lines.Line2D at 0x7f8b20a84860>,\n",
              "  <matplotlib.lines.Line2D at 0x7f8b20a90b00>,\n",
              "  <matplotlib.lines.Line2D at 0x7f8b20a90e10>,\n",
              "  <matplotlib.lines.Line2D at 0x7f8b20a9ae80>,\n",
              "  <matplotlib.lines.Line2D at 0x7f8b20aa4400>,\n",
              "  <matplotlib.lines.Line2D at 0x7f8b20aae6a0>,\n",
              "  <matplotlib.lines.Line2D at 0x7f8b20aae9b0>,\n",
              "  <matplotlib.lines.Line2D at 0x7f8b20abcc50>,\n",
              "  <matplotlib.lines.Line2D at 0x7f8b20abcf60>,\n",
              "  <matplotlib.lines.Line2D at 0x7f8b20a46fd0>,\n",
              "  <matplotlib.lines.Line2D at 0x7f8b20a52550>,\n",
              "  <matplotlib.lines.Line2D at 0x7f8b20a5c7f0>,\n",
              "  <matplotlib.lines.Line2D at 0x7f8b20a5cb00>,\n",
              "  <matplotlib.lines.Line2D at 0x7f8b20a68da0>,\n",
              "  <matplotlib.lines.Line2D at 0x7f8b20a68e80>,\n",
              "  <matplotlib.lines.Line2D at 0x7f8b209fd390>,\n",
              "  <matplotlib.lines.Line2D at 0x7f8b209fd6a0>,\n",
              "  <matplotlib.lines.Line2D at 0x7f8b20a09940>,\n",
              "  <matplotlib.lines.Line2D at 0x7f8b20a09c50>,\n",
              "  <matplotlib.lines.Line2D at 0x7f8b20a14ef0>,\n",
              "  <matplotlib.lines.Line2D at 0x7f8b20a14fd0>,\n",
              "  <matplotlib.lines.Line2D at 0x7f8b20a2a4e0>,\n",
              "  <matplotlib.lines.Line2D at 0x7f8b20a2a7f0>,\n",
              "  <matplotlib.lines.Line2D at 0x7f8b20a32a90>,\n",
              "  <matplotlib.lines.Line2D at 0x7f8b20a32da0>,\n",
              "  <matplotlib.lines.Line2D at 0x7f8b209bfe10>,\n",
              "  <matplotlib.lines.Line2D at 0x7f8b209cc390>,\n",
              "  <matplotlib.lines.Line2D at 0x7f8b209d6630>,\n",
              "  <matplotlib.lines.Line2D at 0x7f8b209d6940>,\n",
              "  <matplotlib.lines.Line2D at 0x7f8b209e0be0>,\n",
              "  <matplotlib.lines.Line2D at 0x7f8b209e0ef0>,\n",
              "  <matplotlib.lines.Line2D at 0x7f8b209eaf60>,\n",
              "  <matplotlib.lines.Line2D at 0x7f8b209f64e0>,\n",
              "  <matplotlib.lines.Line2D at 0x7f8b20980780>,\n",
              "  <matplotlib.lines.Line2D at 0x7f8b20980a90>,\n",
              "  <matplotlib.lines.Line2D at 0x7f8b2098bd30>,\n",
              "  <matplotlib.lines.Line2D at 0x7f8b2098be10>,\n",
              "  <matplotlib.lines.Line2D at 0x7f8b209a3320>,\n",
              "  <matplotlib.lines.Line2D at 0x7f8b209a3630>,\n",
              "  <matplotlib.lines.Line2D at 0x7f8b209ae8d0>,\n",
              "  <matplotlib.lines.Line2D at 0x7f8b209aebe0>,\n",
              "  <matplotlib.lines.Line2D at 0x7f8b209b7e80>,\n",
              "  <matplotlib.lines.Line2D at 0x7f8b209b7f60>,\n",
              "  <matplotlib.lines.Line2D at 0x7f8b2094d470>,\n",
              "  <matplotlib.lines.Line2D at 0x7f8b2094d780>,\n",
              "  <matplotlib.lines.Line2D at 0x7f8b20958a20>,\n",
              "  <matplotlib.lines.Line2D at 0x7f8b20958d30>,\n",
              "  <matplotlib.lines.Line2D at 0x7f8b20963fd0>,\n",
              "  <matplotlib.lines.Line2D at 0x7f8b20970320>,\n",
              "  <matplotlib.lines.Line2D at 0x7f8b2097b5c0>,\n",
              "  <matplotlib.lines.Line2D at 0x7f8b2097b8d0>,\n",
              "  <matplotlib.lines.Line2D at 0x7f8b20906b70>,\n",
              "  <matplotlib.lines.Line2D at 0x7f8b20906e80>,\n",
              "  <matplotlib.lines.Line2D at 0x7f8b2090fef0>,\n",
              "  <matplotlib.lines.Line2D at 0x7f8b2091c470>,\n",
              "  <matplotlib.lines.Line2D at 0x7f8b20927710>,\n",
              "  <matplotlib.lines.Line2D at 0x7f8b20927a20>,\n",
              "  <matplotlib.lines.Line2D at 0x7f8b20932cc0>,\n",
              "  <matplotlib.lines.Line2D at 0x7f8b20932fd0>,\n",
              "  <matplotlib.lines.Line2D at 0x7f8b208c72b0>,\n",
              "  <matplotlib.lines.Line2D at 0x7f8b208c75c0>,\n",
              "  <matplotlib.lines.Line2D at 0x7f8b208d2860>,\n",
              "  <matplotlib.lines.Line2D at 0x7f8b208d2b70>,\n",
              "  <matplotlib.lines.Line2D at 0x7f8b208dee10>,\n",
              "  <matplotlib.lines.Line2D at 0x7f8b208deef0>,\n",
              "  <matplotlib.lines.Line2D at 0x7f8b208f2400>,\n",
              "  <matplotlib.lines.Line2D at 0x7f8b208f2710>,\n",
              "  <matplotlib.lines.Line2D at 0x7f8b208819b0>,\n",
              "  <matplotlib.lines.Line2D at 0x7f8b20881cc0>,\n",
              "  <matplotlib.lines.Line2D at 0x7f8b2088af60>,\n",
              "  <matplotlib.lines.Line2D at 0x7f8b208942b0>,\n",
              "  <matplotlib.lines.Line2D at 0x7f8b208a0550>,\n",
              "  <matplotlib.lines.Line2D at 0x7f8b208a0860>,\n",
              "  <matplotlib.lines.Line2D at 0x7f8b208abb00>,\n",
              "  <matplotlib.lines.Line2D at 0x7f8b208abe10>,\n",
              "  <matplotlib.lines.Line2D at 0x7f8b208b4e80>,\n",
              "  <matplotlib.lines.Line2D at 0x7f8b20840400>,\n",
              "  <matplotlib.lines.Line2D at 0x7f8b2084c6a0>,\n",
              "  <matplotlib.lines.Line2D at 0x7f8b2084c9b0>,\n",
              "  <matplotlib.lines.Line2D at 0x7f8b20856c50>,\n",
              "  <matplotlib.lines.Line2D at 0x7f8b20856f60>,\n",
              "  <matplotlib.lines.Line2D at 0x7f8b20861fd0>,\n",
              "  <matplotlib.lines.Line2D at 0x7f8b2086b550>,\n",
              "  <matplotlib.lines.Line2D at 0x7f8b208777f0>,\n",
              "  <matplotlib.lines.Line2D at 0x7f8b20877b00>,\n",
              "  <matplotlib.lines.Line2D at 0x7f8b20803da0>,\n",
              "  <matplotlib.lines.Line2D at 0x7f8b20803e80>,\n",
              "  <matplotlib.lines.Line2D at 0x7f8b20818390>,\n",
              "  <matplotlib.lines.Line2D at 0x7f8b208186a0>,\n",
              "  <matplotlib.lines.Line2D at 0x7f8b20823940>,\n",
              "  <matplotlib.lines.Line2D at 0x7f8b20823c50>,\n",
              "  <matplotlib.lines.Line2D at 0x7f8b2082eef0>,\n",
              "  <matplotlib.lines.Line2D at 0x7f8b2082efd0>,\n",
              "  <matplotlib.lines.Line2D at 0x7f8b207c54e0>,\n",
              "  <matplotlib.lines.Line2D at 0x7f8b207c57f0>,\n",
              "  <matplotlib.lines.Line2D at 0x7f8b207cea90>,\n",
              "  <matplotlib.lines.Line2D at 0x7f8b207ceda0>,\n",
              "  <matplotlib.lines.Line2D at 0x7f8b207dae10>,\n",
              "  <matplotlib.lines.Line2D at 0x7f8b207e6390>,\n",
              "  <matplotlib.lines.Line2D at 0x7f8b207f0630>,\n",
              "  <matplotlib.lines.Line2D at 0x7f8b207f0940>,\n",
              "  <matplotlib.lines.Line2D at 0x7f8b207fbbe0>,\n",
              "  <matplotlib.lines.Line2D at 0x7f8b207fbef0>,\n",
              "  <matplotlib.lines.Line2D at 0x7f8b20785f60>,\n",
              "  <matplotlib.lines.Line2D at 0x7f8b207924e0>,\n",
              "  <matplotlib.lines.Line2D at 0x7f8b2079a780>,\n",
              "  <matplotlib.lines.Line2D at 0x7f8b2079aa90>,\n",
              "  <matplotlib.lines.Line2D at 0x7f8b207a6d30>,\n",
              "  <matplotlib.lines.Line2D at 0x7f8b207a6e10>,\n",
              "  <matplotlib.lines.Line2D at 0x7f8b2073e320>,\n",
              "  <matplotlib.lines.Line2D at 0x7f8b2073e630>,\n",
              "  <matplotlib.lines.Line2D at 0x7f8b207488d0>,\n",
              "  <matplotlib.lines.Line2D at 0x7f8b20748be0>,\n",
              "  <matplotlib.lines.Line2D at 0x7f8b20752e80>,\n",
              "  <matplotlib.lines.Line2D at 0x7f8b20752f60>,\n",
              "  <matplotlib.lines.Line2D at 0x7f8b20768470>,\n",
              "  <matplotlib.lines.Line2D at 0x7f8b20768780>,\n",
              "  <matplotlib.lines.Line2D at 0x7f8b20773a20>,\n",
              "  <matplotlib.lines.Line2D at 0x7f8b20773d30>,\n",
              "  <matplotlib.lines.Line2D at 0x7f8b2077cfd0>,\n",
              "  <matplotlib.lines.Line2D at 0x7f8b2070a320>,\n",
              "  <matplotlib.lines.Line2D at 0x7f8b207165c0>,\n",
              "  <matplotlib.lines.Line2D at 0x7f8b207168d0>,\n",
              "  <matplotlib.lines.Line2D at 0x7f8b20720b70>,\n",
              "  <matplotlib.lines.Line2D at 0x7f8b20720e80>,\n",
              "  <matplotlib.lines.Line2D at 0x7f8b20729ef0>,\n",
              "  <matplotlib.lines.Line2D at 0x7f8b20737470>,\n",
              "  <matplotlib.lines.Line2D at 0x7f8b206c1710>,\n",
              "  <matplotlib.lines.Line2D at 0x7f8b206c1a20>,\n",
              "  <matplotlib.lines.Line2D at 0x7f8b206cecc0>,\n",
              "  <matplotlib.lines.Line2D at 0x7f8b206cefd0>,\n",
              "  <matplotlib.lines.Line2D at 0x7f8b206e12b0>,\n",
              "  <matplotlib.lines.Line2D at 0x7f8b206e15c0>,\n",
              "  <matplotlib.lines.Line2D at 0x7f8b206ee860>,\n",
              "  <matplotlib.lines.Line2D at 0x7f8b206eeb70>,\n",
              "  <matplotlib.lines.Line2D at 0x7f8b206f8e10>,\n",
              "  <matplotlib.lines.Line2D at 0x7f8b206f8ef0>,\n",
              "  <matplotlib.lines.Line2D at 0x7f8b2068d400>,\n",
              "  <matplotlib.lines.Line2D at 0x7f8b2068d710>,\n",
              "  <matplotlib.lines.Line2D at 0x7f8b2069b9b0>,\n",
              "  <matplotlib.lines.Line2D at 0x7f8b2069bcc0>,\n",
              "  <matplotlib.lines.Line2D at 0x7f8b206a5f60>,\n",
              "  <matplotlib.lines.Line2D at 0x7f8b206ae2b0>,\n",
              "  <matplotlib.lines.Line2D at 0x7f8b206b9550>,\n",
              "  <matplotlib.lines.Line2D at 0x7f8b206b9860>,\n",
              "  <matplotlib.lines.Line2D at 0x7f8b20645b00>,\n",
              "  <matplotlib.lines.Line2D at 0x7f8b20645e10>,\n",
              "  <matplotlib.lines.Line2D at 0x7f8b2064fe80>,\n",
              "  <matplotlib.lines.Line2D at 0x7f8b2065a400>,\n",
              "  <matplotlib.lines.Line2D at 0x7f8b206676a0>,\n",
              "  <matplotlib.lines.Line2D at 0x7f8b206679b0>,\n",
              "  <matplotlib.lines.Line2D at 0x7f8b20672c50>,\n",
              "  <matplotlib.lines.Line2D at 0x7f8b20672f60>,\n",
              "  <matplotlib.lines.Line2D at 0x7f8b2067bfd0>,\n",
              "  <matplotlib.lines.Line2D at 0x7f8b20608550>]}"
            ]
          },
          "metadata": {
            "tags": []
          },
          "execution_count": 150
        },
        {
          "output_type": "display_data",
          "data": {
            "image/png": "[encoded data removed]",
            "text/plain": [
              "<Figure size 432x288 with 1 Axes>"
            ]
          },
          "metadata": {
            "tags": []
          }
        }
      ]
    }
  ]
}