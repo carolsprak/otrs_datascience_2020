{
  "nbformat": 4,
  "nbformat_minor": 0,
  "metadata": {
    "colab": {
      "name": "OTRS_DataScience_2019_2020",
      "provenance": [],
      "collapsed_sections": [],
      "include_colab_link": true
    },
    "kernelspec": {
      "name": "python3",
      "display_name": "Python 3"
    }
  },
  "cells": [
    {
      "cell_type": "markdown",
      "metadata": {
        "id": "view-in-github",
        "colab_type": "text"
      },
      "source": [
        "<a href=\"https://colab.research.google.com/github/carolsprak/otrs_datascience_2020/blob/main/OTRS_DataScience_2019_2020.ipynb\" target=\"_parent\"><img src=\"https://colab.research.google.com/assets/colab-badge.svg\" alt=\"Open In Colab\"/></a>"
      ]
    },
    {
      "cell_type": "code",
      "metadata": {
        "id": "-7ogKZnFFhB3"
      },
      "source": [
        "import pandas as pd\n",
        "import seaborn as sns\n",
        "import matplotlib.pyplot as plt\n",
        "import numpy as np"
      ],
      "execution_count": 61,
      "outputs": []
    },
    {
      "cell_type": "markdown",
      "metadata": {
        "id": "kgfZbcEGGzWM"
      },
      "source": [
        "#Analisando OTRS STI\n"
      ]
    },
    {
      "cell_type": "code",
      "metadata": {
        "id": "A8oCwhkq6b3v"
      },
      "source": [
        "notas = pd.read_csv(\"sample_data/otrs_fechados_meses_2019_2020.csv\") \n"
      ],
      "execution_count": 141,
      "outputs": []
    },
    {
      "cell_type": "code",
      "metadata": {
        "id": "MPuqWUwU7SfL",
        "colab": {
          "base_uri": "https://localhost:8080/"
        },
        "outputId": "57e34162-8a71-4fcc-ba86-fa06d83b0403"
      },
      "source": [
        "notas.head() \n",
        "notas.shape"
      ],
      "execution_count": 142,
      "outputs": [
        {
          "output_type": "execute_result",
          "data": {
            "text/plain": [
              "(24, 24)"
            ]
          },
          "metadata": {
            "tags": []
          },
          "execution_count": 142
        }
      ]
    },
    {
      "cell_type": "code",
      "metadata": {
        "id": "jOASDzGz6eal",
        "colab": {
          "base_uri": "https://localhost:8080/",
          "height": 224
        },
        "outputId": "2578bdd9-5efa-4001-acc4-9b4a9d409a2a"
      },
      "source": [
        "#notas.rows = [\"Suporte aos Sistemas\", \"SIGAA::Biblioteca\", \"SIGAA::Diplomas\", \"SIGAA::Graduação\", \"SIGAA::Monitoria\", \"SIGAA::Pós (Stricto e Latu)\", \"SIGAA::Técnico\", \"SIGRH\", \"SIPAC\", \"SIPE\"] \n",
        "#notas.columns = [\"Fila\", \"Janeiro/2019\", \"Fevereiro/2019\", \"Março/2019\", \"Abril/2019\", \"Maio/2019\", \"Junho/2019\", \"Julho/2019\", \"Agosto/2019\", \"Setembro/2019\", \"Outubro/2019\", \"Novembro/2019\", \"Dezembro/2019\",\"Janeiro/2020\", \"Fevereiro/2020\", \"Março/2020\", \"Abril/2020\", \"Maio/2020\", \"Junho/2020\", \"Julho/2020\", \"Agosto/2020\", \"Setembro/2020\", \"Outubro/2020\", \"Novembro/2020\"]\n",
        "notas.columns = [\"Fila\",\"Jan2019\",\"Fev2019\",\"Mar2019\",\"Abr2019\",\"Mai2019\",\"Jun2019\",\"Jul2019\",\"Ago2019\",\"Set2019\",\"Out2019\",\"Nov2019\",\"Dez2019\",\"Jan2020\",\"Fev2020\",\"Mar2020\",\"Abr2020\",\"Mai2020\",\"Jun2020\",\"Jul2020\",\"Ago2020\",\"Set2020\",\"Out2020\",\"Nov2020\"]\n",
        "notas.head()"
      ],
      "execution_count": 144,
      "outputs": [
        {
          "output_type": "execute_result",
          "data": {
            "text/html": [
              "<div>\n",
              "<style scoped>\n",
              "    .dataframe tbody tr th:only-of-type {\n",
              "        vertical-align: middle;\n",
              "    }\n",
              "\n",
              "    .dataframe tbody tr th {\n",
              "        vertical-align: top;\n",
              "    }\n",
              "\n",
              "    .dataframe thead th {\n",
              "        text-align: right;\n",
              "    }\n",
              "</style>\n",
              "<table border=\"1\" class=\"dataframe\">\n",
              "  <thead>\n",
              "    <tr style=\"text-align: right;\">\n",
              "      <th></th>\n",
              "      <th>Fila</th>\n",
              "      <th>Jan2019</th>\n",
              "      <th>Fev2019</th>\n",
              "      <th>Mar2019</th>\n",
              "      <th>Abr2019</th>\n",
              "      <th>Mai2019</th>\n",
              "      <th>Jun2019</th>\n",
              "      <th>Jul2019</th>\n",
              "      <th>Ago2019</th>\n",
              "      <th>Set2019</th>\n",
              "      <th>Out2019</th>\n",
              "      <th>Nov2019</th>\n",
              "      <th>Dez2019</th>\n",
              "      <th>Jan2020</th>\n",
              "      <th>Fev2020</th>\n",
              "      <th>Mar2020</th>\n",
              "      <th>Abr2020</th>\n",
              "      <th>Mai2020</th>\n",
              "      <th>Jun2020</th>\n",
              "      <th>Jul2020</th>\n",
              "      <th>Ago2020</th>\n",
              "      <th>Set2020</th>\n",
              "      <th>Out2020</th>\n",
              "      <th>Nov2020</th>\n",
              "    </tr>\n",
              "  </thead>\n",
              "  <tbody>\n",
              "    <tr>\n",
              "      <th>0</th>\n",
              "      <td>Suporte</td>\n",
              "      <td>8</td>\n",
              "      <td>13</td>\n",
              "      <td>11</td>\n",
              "      <td>14</td>\n",
              "      <td>5</td>\n",
              "      <td>6</td>\n",
              "      <td>11</td>\n",
              "      <td>12</td>\n",
              "      <td>6</td>\n",
              "      <td>14</td>\n",
              "      <td>6</td>\n",
              "      <td>6</td>\n",
              "      <td>1</td>\n",
              "      <td>9</td>\n",
              "      <td>11</td>\n",
              "      <td>7</td>\n",
              "      <td>31</td>\n",
              "      <td>8</td>\n",
              "      <td>6</td>\n",
              "      <td>10</td>\n",
              "      <td>7</td>\n",
              "      <td>4</td>\n",
              "      <td>2</td>\n",
              "    </tr>\n",
              "    <tr>\n",
              "      <th>1</th>\n",
              "      <td>SIGAA</td>\n",
              "      <td>0</td>\n",
              "      <td>0</td>\n",
              "      <td>1</td>\n",
              "      <td>6</td>\n",
              "      <td>3</td>\n",
              "      <td>4</td>\n",
              "      <td>5</td>\n",
              "      <td>4</td>\n",
              "      <td>0</td>\n",
              "      <td>5</td>\n",
              "      <td>6</td>\n",
              "      <td>5</td>\n",
              "      <td>5</td>\n",
              "      <td>3</td>\n",
              "      <td>5</td>\n",
              "      <td>13</td>\n",
              "      <td>98</td>\n",
              "      <td>31</td>\n",
              "      <td>9</td>\n",
              "      <td>19</td>\n",
              "      <td>22</td>\n",
              "      <td>9</td>\n",
              "      <td>2</td>\n",
              "    </tr>\n",
              "    <tr>\n",
              "      <th>2</th>\n",
              "      <td>SIGAA_Assistência</td>\n",
              "      <td>3</td>\n",
              "      <td>9</td>\n",
              "      <td>7</td>\n",
              "      <td>11</td>\n",
              "      <td>7</td>\n",
              "      <td>4</td>\n",
              "      <td>4</td>\n",
              "      <td>6</td>\n",
              "      <td>9</td>\n",
              "      <td>4</td>\n",
              "      <td>2</td>\n",
              "      <td>5</td>\n",
              "      <td>3</td>\n",
              "      <td>8</td>\n",
              "      <td>2</td>\n",
              "      <td>1</td>\n",
              "      <td>1</td>\n",
              "      <td>1</td>\n",
              "      <td>2</td>\n",
              "      <td>0</td>\n",
              "      <td>7</td>\n",
              "      <td>5</td>\n",
              "      <td>0</td>\n",
              "    </tr>\n",
              "    <tr>\n",
              "      <th>3</th>\n",
              "      <td>SIGAA_Biblioteca</td>\n",
              "      <td>8</td>\n",
              "      <td>15</td>\n",
              "      <td>5</td>\n",
              "      <td>12</td>\n",
              "      <td>12</td>\n",
              "      <td>7</td>\n",
              "      <td>8</td>\n",
              "      <td>8</td>\n",
              "      <td>11</td>\n",
              "      <td>7</td>\n",
              "      <td>11</td>\n",
              "      <td>6</td>\n",
              "      <td>10</td>\n",
              "      <td>8</td>\n",
              "      <td>21</td>\n",
              "      <td>4</td>\n",
              "      <td>0</td>\n",
              "      <td>1</td>\n",
              "      <td>3</td>\n",
              "      <td>14</td>\n",
              "      <td>18</td>\n",
              "      <td>13</td>\n",
              "      <td>0</td>\n",
              "    </tr>\n",
              "    <tr>\n",
              "      <th>4</th>\n",
              "      <td>SIGAA_Diplomas</td>\n",
              "      <td>0</td>\n",
              "      <td>1</td>\n",
              "      <td>1</td>\n",
              "      <td>2</td>\n",
              "      <td>0</td>\n",
              "      <td>1</td>\n",
              "      <td>3</td>\n",
              "      <td>2</td>\n",
              "      <td>0</td>\n",
              "      <td>0</td>\n",
              "      <td>2</td>\n",
              "      <td>1</td>\n",
              "      <td>0</td>\n",
              "      <td>0</td>\n",
              "      <td>1</td>\n",
              "      <td>0</td>\n",
              "      <td>3</td>\n",
              "      <td>0</td>\n",
              "      <td>1</td>\n",
              "      <td>4</td>\n",
              "      <td>1</td>\n",
              "      <td>2</td>\n",
              "      <td>1</td>\n",
              "    </tr>\n",
              "  </tbody>\n",
              "</table>\n",
              "</div>"
            ],
            "text/plain": [
              "                Fila  Jan2019  Fev2019  ...  Set2020  Out2020  Nov2020\n",
              "0            Suporte        8       13  ...        7        4        2\n",
              "1              SIGAA        0        0  ...       22        9        2\n",
              "2  SIGAA_Assistência        3        9  ...        7        5        0\n",
              "3   SIGAA_Biblioteca        8       15  ...       18       13        0\n",
              "4     SIGAA_Diplomas        0        1  ...        1        2        1\n",
              "\n",
              "[5 rows x 24 columns]"
            ]
          },
          "metadata": {
            "tags": []
          },
          "execution_count": 144
        }
      ]
    },
    {
      "cell_type": "code",
      "metadata": {
        "id": "wuk6bnRp6hGF",
        "colab": {
          "base_uri": "https://localhost:8080/",
          "height": 317
        },
        "outputId": "7eb9e9ec-4101-4078-e112-c81ee5fb1897"
      },
      "source": [
        "notas.describe()"
      ],
      "execution_count": 145,
      "outputs": [
        {
          "output_type": "execute_result",
          "data": {
            "text/html": [
              "<div>\n",
              "<style scoped>\n",
              "    .dataframe tbody tr th:only-of-type {\n",
              "        vertical-align: middle;\n",
              "    }\n",
              "\n",
              "    .dataframe tbody tr th {\n",
              "        vertical-align: top;\n",
              "    }\n",
              "\n",
              "    .dataframe thead th {\n",
              "        text-align: right;\n",
              "    }\n",
              "</style>\n",
              "<table border=\"1\" class=\"dataframe\">\n",
              "  <thead>\n",
              "    <tr style=\"text-align: right;\">\n",
              "      <th></th>\n",
              "      <th>Jan2019</th>\n",
              "      <th>Fev2019</th>\n",
              "      <th>Mar2019</th>\n",
              "      <th>Abr2019</th>\n",
              "      <th>Mai2019</th>\n",
              "      <th>Jun2019</th>\n",
              "      <th>Jul2019</th>\n",
              "      <th>Ago2019</th>\n",
              "      <th>Set2019</th>\n",
              "      <th>Out2019</th>\n",
              "      <th>Nov2019</th>\n",
              "      <th>Dez2019</th>\n",
              "      <th>Jan2020</th>\n",
              "      <th>Fev2020</th>\n",
              "      <th>Mar2020</th>\n",
              "      <th>Abr2020</th>\n",
              "      <th>Mai2020</th>\n",
              "      <th>Jun2020</th>\n",
              "      <th>Jul2020</th>\n",
              "      <th>Ago2020</th>\n",
              "      <th>Set2020</th>\n",
              "      <th>Out2020</th>\n",
              "      <th>Nov2020</th>\n",
              "    </tr>\n",
              "  </thead>\n",
              "  <tbody>\n",
              "    <tr>\n",
              "      <th>count</th>\n",
              "      <td>24.000000</td>\n",
              "      <td>24.000000</td>\n",
              "      <td>24.0000</td>\n",
              "      <td>24.000000</td>\n",
              "      <td>24.000000</td>\n",
              "      <td>24.00000</td>\n",
              "      <td>24.000000</td>\n",
              "      <td>24.000000</td>\n",
              "      <td>24.000000</td>\n",
              "      <td>24.000000</td>\n",
              "      <td>24.000000</td>\n",
              "      <td>24.000000</td>\n",
              "      <td>24.000000</td>\n",
              "      <td>24.000000</td>\n",
              "      <td>24.000000</td>\n",
              "      <td>24.000000</td>\n",
              "      <td>24.000000</td>\n",
              "      <td>24.000000</td>\n",
              "      <td>24.000000</td>\n",
              "      <td>24.000000</td>\n",
              "      <td>24.000000</td>\n",
              "      <td>24.000000</td>\n",
              "      <td>24.000000</td>\n",
              "    </tr>\n",
              "    <tr>\n",
              "      <th>mean</th>\n",
              "      <td>7.041667</td>\n",
              "      <td>15.250000</td>\n",
              "      <td>9.8750</td>\n",
              "      <td>13.541667</td>\n",
              "      <td>12.250000</td>\n",
              "      <td>12.12500</td>\n",
              "      <td>12.208333</td>\n",
              "      <td>12.958333</td>\n",
              "      <td>12.000000</td>\n",
              "      <td>13.416667</td>\n",
              "      <td>12.291667</td>\n",
              "      <td>8.875000</td>\n",
              "      <td>9.750000</td>\n",
              "      <td>11.833333</td>\n",
              "      <td>13.166667</td>\n",
              "      <td>12.000000</td>\n",
              "      <td>19.875000</td>\n",
              "      <td>15.000000</td>\n",
              "      <td>11.125000</td>\n",
              "      <td>15.416667</td>\n",
              "      <td>13.416667</td>\n",
              "      <td>11.083333</td>\n",
              "      <td>4.791667</td>\n",
              "    </tr>\n",
              "    <tr>\n",
              "      <th>std</th>\n",
              "      <td>11.682314</td>\n",
              "      <td>24.548532</td>\n",
              "      <td>15.0804</td>\n",
              "      <td>18.941510</td>\n",
              "      <td>20.939353</td>\n",
              "      <td>22.15619</td>\n",
              "      <td>21.603098</td>\n",
              "      <td>21.146444</td>\n",
              "      <td>22.378173</td>\n",
              "      <td>22.563758</td>\n",
              "      <td>21.929688</td>\n",
              "      <td>13.375229</td>\n",
              "      <td>17.408768</td>\n",
              "      <td>21.402289</td>\n",
              "      <td>17.965345</td>\n",
              "      <td>18.761663</td>\n",
              "      <td>29.748676</td>\n",
              "      <td>21.122829</td>\n",
              "      <td>16.103774</td>\n",
              "      <td>26.279297</td>\n",
              "      <td>18.052861</td>\n",
              "      <td>15.443914</td>\n",
              "      <td>7.413144</td>\n",
              "    </tr>\n",
              "    <tr>\n",
              "      <th>min</th>\n",
              "      <td>0.000000</td>\n",
              "      <td>0.000000</td>\n",
              "      <td>0.0000</td>\n",
              "      <td>0.000000</td>\n",
              "      <td>0.000000</td>\n",
              "      <td>0.00000</td>\n",
              "      <td>0.000000</td>\n",
              "      <td>0.000000</td>\n",
              "      <td>0.000000</td>\n",
              "      <td>0.000000</td>\n",
              "      <td>0.000000</td>\n",
              "      <td>0.000000</td>\n",
              "      <td>0.000000</td>\n",
              "      <td>0.000000</td>\n",
              "      <td>0.000000</td>\n",
              "      <td>0.000000</td>\n",
              "      <td>0.000000</td>\n",
              "      <td>0.000000</td>\n",
              "      <td>0.000000</td>\n",
              "      <td>0.000000</td>\n",
              "      <td>0.000000</td>\n",
              "      <td>0.000000</td>\n",
              "      <td>0.000000</td>\n",
              "    </tr>\n",
              "    <tr>\n",
              "      <th>25%</th>\n",
              "      <td>0.000000</td>\n",
              "      <td>0.000000</td>\n",
              "      <td>0.0000</td>\n",
              "      <td>1.500000</td>\n",
              "      <td>0.000000</td>\n",
              "      <td>0.75000</td>\n",
              "      <td>0.750000</td>\n",
              "      <td>0.000000</td>\n",
              "      <td>0.000000</td>\n",
              "      <td>0.000000</td>\n",
              "      <td>0.000000</td>\n",
              "      <td>1.000000</td>\n",
              "      <td>0.000000</td>\n",
              "      <td>0.000000</td>\n",
              "      <td>0.750000</td>\n",
              "      <td>0.000000</td>\n",
              "      <td>1.000000</td>\n",
              "      <td>1.000000</td>\n",
              "      <td>1.000000</td>\n",
              "      <td>1.000000</td>\n",
              "      <td>1.750000</td>\n",
              "      <td>2.750000</td>\n",
              "      <td>0.000000</td>\n",
              "    </tr>\n",
              "    <tr>\n",
              "      <th>50%</th>\n",
              "      <td>2.500000</td>\n",
              "      <td>8.500000</td>\n",
              "      <td>5.0000</td>\n",
              "      <td>7.500000</td>\n",
              "      <td>5.500000</td>\n",
              "      <td>4.50000</td>\n",
              "      <td>4.000000</td>\n",
              "      <td>3.500000</td>\n",
              "      <td>5.000000</td>\n",
              "      <td>4.500000</td>\n",
              "      <td>5.500000</td>\n",
              "      <td>4.000000</td>\n",
              "      <td>2.000000</td>\n",
              "      <td>2.500000</td>\n",
              "      <td>5.000000</td>\n",
              "      <td>3.500000</td>\n",
              "      <td>5.000000</td>\n",
              "      <td>6.000000</td>\n",
              "      <td>3.500000</td>\n",
              "      <td>5.500000</td>\n",
              "      <td>7.500000</td>\n",
              "      <td>6.000000</td>\n",
              "      <td>2.000000</td>\n",
              "    </tr>\n",
              "    <tr>\n",
              "      <th>75%</th>\n",
              "      <td>9.500000</td>\n",
              "      <td>17.500000</td>\n",
              "      <td>11.7500</td>\n",
              "      <td>15.500000</td>\n",
              "      <td>10.250000</td>\n",
              "      <td>8.50000</td>\n",
              "      <td>18.250000</td>\n",
              "      <td>14.250000</td>\n",
              "      <td>9.500000</td>\n",
              "      <td>10.750000</td>\n",
              "      <td>9.500000</td>\n",
              "      <td>7.250000</td>\n",
              "      <td>10.750000</td>\n",
              "      <td>14.250000</td>\n",
              "      <td>21.750000</td>\n",
              "      <td>15.000000</td>\n",
              "      <td>22.000000</td>\n",
              "      <td>24.750000</td>\n",
              "      <td>13.000000</td>\n",
              "      <td>16.500000</td>\n",
              "      <td>19.250000</td>\n",
              "      <td>10.000000</td>\n",
              "      <td>6.750000</td>\n",
              "    </tr>\n",
              "    <tr>\n",
              "      <th>max</th>\n",
              "      <td>55.000000</td>\n",
              "      <td>108.000000</td>\n",
              "      <td>66.0000</td>\n",
              "      <td>83.000000</td>\n",
              "      <td>81.000000</td>\n",
              "      <td>94.00000</td>\n",
              "      <td>102.000000</td>\n",
              "      <td>83.000000</td>\n",
              "      <td>89.000000</td>\n",
              "      <td>78.000000</td>\n",
              "      <td>83.000000</td>\n",
              "      <td>57.000000</td>\n",
              "      <td>69.000000</td>\n",
              "      <td>98.000000</td>\n",
              "      <td>63.000000</td>\n",
              "      <td>72.000000</td>\n",
              "      <td>98.000000</td>\n",
              "      <td>78.000000</td>\n",
              "      <td>63.000000</td>\n",
              "      <td>115.000000</td>\n",
              "      <td>79.000000</td>\n",
              "      <td>67.000000</td>\n",
              "      <td>34.000000</td>\n",
              "    </tr>\n",
              "  </tbody>\n",
              "</table>\n",
              "</div>"
            ],
            "text/plain": [
              "         Jan2019     Fev2019  Mar2019  ...    Set2020    Out2020    Nov2020\n",
              "count  24.000000   24.000000  24.0000  ...  24.000000  24.000000  24.000000\n",
              "mean    7.041667   15.250000   9.8750  ...  13.416667  11.083333   4.791667\n",
              "std    11.682314   24.548532  15.0804  ...  18.052861  15.443914   7.413144\n",
              "min     0.000000    0.000000   0.0000  ...   0.000000   0.000000   0.000000\n",
              "25%     0.000000    0.000000   0.0000  ...   1.750000   2.750000   0.000000\n",
              "50%     2.500000    8.500000   5.0000  ...   7.500000   6.000000   2.000000\n",
              "75%     9.500000   17.500000  11.7500  ...  19.250000  10.000000   6.750000\n",
              "max    55.000000  108.000000  66.0000  ...  79.000000  67.000000  34.000000\n",
              "\n",
              "[8 rows x 23 columns]"
            ]
          },
          "metadata": {
            "tags": []
          },
          "execution_count": 145
        }
      ]
    },
    {
      "cell_type": "code",
      "metadata": {
        "colab": {
          "base_uri": "https://localhost:8080/",
          "height": 418
        },
        "id": "5PpjYFRHgz-I",
        "outputId": "1f9428c4-257c-467a-c047-600bb1775683"
      },
      "source": [
        "sistemas_com_chamados = notas.query('Jan2019 > 0')\n",
        "sistemas_com_chamados.plot(kind='hist')"
      ],
      "execution_count": 171,
      "outputs": [
        {
          "output_type": "execute_result",
          "data": {
            "text/plain": [
              "<matplotlib.axes._subplots.AxesSubplot at 0x7f115bef6b70>"
            ]
          },
          "metadata": {
            "tags": []
          },
          "execution_count": 171
        },
        {
          "output_type": "display_data",
          "data": {
            "image/png": "[encoded data removed]",
            "text/plain": [
              "<Figure size 432x288 with 1 Axes>"
            ]
          },
          "metadata": {
            "tags": [],
            "needs_background": "light"
          }
        }
      ]
    },
    {
      "cell_type": "code",
      "metadata": {
        "id": "QNMkUw7J6mgv",
        "colab": {
          "base_uri": "https://localhost:8080/",
          "height": 296
        },
        "outputId": "487f3fc9-d493-4fa5-df00-7b3afb46f715"
      },
      "source": [
        "import seaborn as sns\n",
        "sns.barplot( x=\"Jan2019\", y=\"Fila\", data = notas.query('Jan2019 > 6'))\n"
      ],
      "execution_count": 180,
      "outputs": [
        {
          "output_type": "execute_result",
          "data": {
            "text/plain": [
              "<matplotlib.axes._subplots.AxesSubplot at 0x7f1157b23f28>"
            ]
          },
          "metadata": {
            "tags": []
          },
          "execution_count": 180
        },
        {
          "output_type": "display_data",
          "data": {
            "image/png": "[encoded data removed]",
            "text/plain": [
              "<Figure size 432x288 with 1 Axes>"
            ]
          },
          "metadata": {
            "tags": [],
            "needs_background": "light"
          }
        }
      ]
    },
    {
      "cell_type": "code",
      "metadata": {
        "colab": {
          "base_uri": "https://localhost:8080/",
          "height": 296
        },
        "id": "yyjrzkvQwXJ3",
        "outputId": "8d9ecbd1-76a9-4720-bfe8-72cedc097e5a"
      },
      "source": [
        "\n",
        "sns.barplot( x=\"Jan2020\", y=\"Fila\", data = notas.query('Jan2020 > 6') )"
      ],
      "execution_count": 187,
      "outputs": [
        {
          "output_type": "execute_result",
          "data": {
            "text/plain": [
              "<matplotlib.axes._subplots.AxesSubplot at 0x7f11571a6198>"
            ]
          },
          "metadata": {
            "tags": []
          },
          "execution_count": 187
        },
        {
          "output_type": "display_data",
          "data": {
            "image/png": "[encoded data removed]",
            "text/plain": [
              "<Figure size 432x288 with 1 Axes>"
            ]
          },
          "metadata": {
            "tags": [],
            "needs_background": "light"
          }
        }
      ]
    },
    {
      "cell_type": "code",
      "metadata": {
        "id": "QnZBSetU7o5s",
        "colab": {
          "base_uri": "https://localhost:8080/",
          "height": 296
        },
        "outputId": "b5c70377-6f03-4664-ebb8-275c718f0743"
      },
      "source": [
        "sns.barplot( x=\"Jan2020\", y=\"Fila\", data = notas.query('Nov2020 > 6') )"
      ],
      "execution_count": 186,
      "outputs": [
        {
          "output_type": "execute_result",
          "data": {
            "text/plain": [
              "<matplotlib.axes._subplots.AxesSubplot at 0x7f115786b358>"
            ]
          },
          "metadata": {
            "tags": []
          },
          "execution_count": 186
        },
        {
          "output_type": "display_data",
          "data": {
            "image/png": "[encoded data removed]",
            "text/plain": [
              "<Figure size 432x288 with 1 Axes>"
            ]
          },
          "metadata": {
            "tags": [],
            "needs_background": "light"
          }
        }
      ]
    }
  ]
}